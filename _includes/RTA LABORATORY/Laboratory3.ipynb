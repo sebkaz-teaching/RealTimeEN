{
 "cells": [
  {
   "cell_type": "code",
   "execution_count": null,
   "id": "17fba65e-b9b8-4f80-aaea-a3f629a690e1",
   "metadata": {},
   "outputs": [],
   "source": [
    "import re\n",
    "from pyspark.sql import SparkSession"
   ]
  },
  {
   "cell_type": "code",
   "execution_count": null,
   "id": "f6762cf1-e965-4bed-9237-9beb5c61481e",
   "metadata": {},
   "outputs": [],
   "source": [
    "spark = SparkSession.builder.getOrCreate()"
   ]
  },
  {
   "cell_type": "code",
   "execution_count": null,
   "id": "f5a8adca-e3de-4d2d-9536-4f039ea963b2",
   "metadata": {},
   "outputs": [],
   "source": [
    "sc = spark.sparkContext"
   ]
  },
  {
   "cell_type": "code",
   "execution_count": null,
   "id": "94ae44fe-8703-458e-b2af-5ce9dd579ed5",
   "metadata": {},
   "outputs": [],
   "source": [
    "sc.textFile(\"RDD_input\")\\\n",
    ".map(lambda x: re.findall(r\"[a-z']+\", x.lower()))\\\n",
    ".flatMap(lambda x: [(y, 1) for y in x])\\\n",
    ".reduceByKey(lambda x, y: x+y)\\\n",
    ".collect()"
   ]
  },
  {
   "cell_type": "code",
   "execution_count": null,
   "id": "d41b8d3a-56d5-46f7-946b-69aa303651f2",
   "metadata": {},
   "outputs": [],
   "source": [
    "import re \n",
    "from pyspark import SparkContext\n",
    "from pyspark.streaming import StreamingContext"
   ]
  },
  {
   "cell_type": "code",
   "execution_count": null,
   "id": "f649d5bd-dcd2-4276-a263-81b9a50511e4",
   "metadata": {},
   "outputs": [],
   "source": [
    "sc = SparkContext(\"local[2]\", \"StreamWordCount\")\n",
    "ssc = StreamingContext(sc, 3) "
   ]
  },
  {
   "cell_type": "code",
   "execution_count": null,
   "id": "7c189ba5-5ce3-418b-9365-95602dacdbe7",
   "metadata": {},
   "outputs": [],
   "source": [
    "lines = ssc.socketTextStream(\"localhost\", 9998)"
   ]
  },
  {
   "cell_type": "code",
   "execution_count": null,
   "id": "6070a962-bb41-4817-9d16-7efe3c59de58",
   "metadata": {},
   "outputs": [],
   "source": [
    "words = lines.flatMap(lambda x: re.findall(r\"[a-z']+\", x.lower()))\n",
    "wordCounts = words.map(lambda word: (word,1)).reduceByKey(lambda x,y: x+y)\n",
    "\n",
    "wordCounts.pprint()"
   ]
  },
  {
   "cell_type": "code",
   "execution_count": null,
   "id": "23932aee-35df-4d87-8eaa-4df950a49f1c",
   "metadata": {},
   "outputs": [],
   "source": [
    "ssc.start()             # Start the computation\n",
    "ssc.awaitTermination()  # Wait for the computation to terminate\n",
    "ssc.stop(True,True)"
   ]
  },
  {
   "attachments": {},
   "cell_type": "markdown",
   "id": "b034231f-065f-4eac-b579-4f7d86cf291b",
   "metadata": {},
   "source": [
    "## Apache Kafka Run \n",
    "\n",
    "Go to terminal and: \n",
    "#### 1. download \n",
    "```bash\n",
    "\n",
    "wget https://archive.apache.org/dist/kafka/3.0.0/kafka_2.12-3.0.0.tgz\n",
    "```\n",
    "#### 2. untar\n",
    "tar -xzf kafka_2.12-3.0.0.tgz\n",
    "\n",
    "#### 3. Go to Kafka directory\n",
    "```bash\n",
    "cd kafka_2.12-3.0.0\n",
    "```\n",
    "#### Zookeeper server\n",
    "Open new terminal 1 - zookeeper server run\n",
    "```bash\n",
    "bin/zookeeper-server-start.sh config/zookeeper.properties\n",
    "```\n",
    "#### Kafka server\n",
    "Open new terminal 2 - start kafka broker\n",
    "```bash\n",
    "bin/kafka-server-start.sh config/server.properties\n",
    "```\n",
    "#### Create new topic\n",
    "Open new terminal 3 \n",
    "```bash\n",
    "bin/kafka-topics.sh --create --topic quickstart-events --bootstrap-server 127.0.0.1:9092 --partitions 3 --replication-factor 1\n",
    "```\n",
    "\n",
    "#### Kafka Console producer\n",
    "You can run it on two or more terminals\n",
    "```bash\n",
    "bin/kafka-console-producer.sh --topic quickstart-events --bootstrap-server localhost:9092\n",
    "```\n",
    "#### Kafka Console consumer\n",
    "```bash\n",
    "$ bin/kafka-console-consumer.sh --topic quickstart-events --from-beginning --bootstrap-server localhost:9092\n",
    "```"
   ]
  }
 ],
 "metadata": {
  "kernelspec": {
   "display_name": "Python 3",
   "language": "python",
   "name": "python3"
  },
  "language_info": {
   "codemirror_mode": {
    "name": "ipython",
    "version": 3
   },
   "file_extension": ".py",
   "mimetype": "text/x-python",
   "name": "python",
   "nbconvert_exporter": "python",
   "pygments_lexer": "ipython3",
   "version": "3.10.9 (main, Dec 15 2022, 17:11:09) [Clang 14.0.0 (clang-1400.0.29.202)]"
  },
  "vscode": {
   "interpreter": {
    "hash": "b0fa6594d8f4cbf19f97940f81e996739fb7646882a419484c72d19e05852a7e"
   }
  }
 },
 "nbformat": 4,
 "nbformat_minor": 5
}
