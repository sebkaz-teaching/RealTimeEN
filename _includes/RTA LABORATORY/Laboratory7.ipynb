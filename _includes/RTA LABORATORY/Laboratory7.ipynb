{
 "cells": [
  {
   "cell_type": "code",
   "execution_count": null,
   "id": "f256564f-89ee-40c2-830a-8c4a49ceb40e",
   "metadata": {},
   "outputs": [],
   "source": [
    "import subprocess\n",
    "import requests"
   ]
  },
  {
   "cell_type": "code",
   "execution_count": null,
   "id": "f2156c74-254c-43fd-99e2-64784dd1e496",
   "metadata": {},
   "outputs": [],
   "source": [
    "%%file app1.py\n",
    "\n",
    "from flask import Flask\n",
    "\n",
    "app = Flask(__name__)\n",
    "\n",
    "@app.route('/hello')\n",
    "def hello():\n",
    "    return \"hello world\"\n",
    "\n",
    "if __name__ == '__main__':\n",
    "    app.run()"
   ]
  },
  {
   "cell_type": "code",
   "execution_count": null,
   "id": "2e7247f9-8d8e-49e4-bf01-dd510f51176f",
   "metadata": {},
   "outputs": [],
   "source": [
    "p = subprocess.Popen([\"python\", \"app1.py\"])"
   ]
  },
  {
   "cell_type": "code",
   "execution_count": null,
   "id": "6ade63f4-b8b6-420f-9adb-9f4cb4866403",
   "metadata": {},
   "outputs": [],
   "source": [
    "response = requests.get(\"http://127.0.0.1:5000/hello\")\n",
    "print(response.content)"
   ]
  },
  {
   "cell_type": "code",
   "execution_count": null,
   "id": "c105eae4-3060-4d61-b95a-6c56c5d7ca08",
   "metadata": {},
   "outputs": [],
   "source": [
    "p.kill()"
   ]
  },
  {
   "cell_type": "code",
   "execution_count": 1,
   "id": "edd28652-5c98-4bca-a952-9060652def20",
   "metadata": {},
   "outputs": [
    {
     "name": "stdout",
     "output_type": "stream",
     "text": [
      "Overwriting app.py\n"
     ]
    }
   ],
   "source": [
    "%%file app.py\n",
    "\n",
    "from flask import Flask\n",
    "\n",
    "app = Flask(__name__)\n",
    "\n",
    "@app.route('/')\n",
    "def hello():\n",
    "    return \"hello world\"\n",
    "\n",
    "if __name__ == '__main__':\n",
    "    app.run(host='0.0.0.0', port=5050)"
   ]
  },
  {
   "cell_type": "code",
   "execution_count": null,
   "id": "091a2dc0-2c2e-485c-991f-18def6ce7b2c",
   "metadata": {},
   "outputs": [],
   "source": [
    "%%file Dockerfile\n",
    "FROM python:3.10\n",
    "\n",
    "WORKDIR /app\n",
    "\n",
    "COPY app.py .\n",
    "COPY requirements.txt .\n",
    "\n",
    "RUN pip install -r requirements.txt\n",
    "\n",
    "EXPOSE 5050\n",
    "ENTRYPOINT [\"python\"]\n",
    "CMD [\"app.py\"]"
   ]
  },
  {
   "cell_type": "code",
   "execution_count": 2,
   "id": "9dc40b9d-4f42-408f-b7ec-53007510ac0e",
   "metadata": {},
   "outputs": [
    {
     "name": "stdout",
     "output_type": "stream",
     "text": [
      "Overwriting requirements.txt\n"
     ]
    }
   ],
   "source": [
    "%%file requirements.txt\n",
    "Flask==2.1.0"
   ]
  },
  {
   "cell_type": "markdown",
   "id": "23ec125b-e155-4de0-a9cb-1ec7dbb9da37",
   "metadata": {},
   "source": [
    "```bash\n",
    "docker build -t test_hello .\n",
    "\n",
    "docker run -p 5000:5000 test_hello\n",
    "```"
   ]
  },
  {
   "cell_type": "code",
   "execution_count": null,
   "id": "68807b9f-cd83-4486-866e-1eb72dcab1fd",
   "metadata": {},
   "outputs": [],
   "source": [
    "response = requests.get(\"http://127.0.0.1:5000/hello\")\n",
    "response.content"
   ]
  },
  {
   "cell_type": "code",
   "execution_count": null,
   "id": "a19d34da-b7ec-41c9-b8de-164ea1f4fdc4",
   "metadata": {},
   "outputs": [],
   "source": [
    "%%file app2.py\n",
    "\n",
    "from flask import Flask\n",
    "from flask import request\n",
    "\n",
    "# Create a flask\n",
    "app = Flask(__name__)\n",
    "\n",
    "# Create an API end point\n",
    "@app.route('/hello', methods=['GET'])\n",
    "def say_hello():\n",
    "    name = request.args.get(\"name\", \"\")\n",
    "    title = request.args.get(\"title\", \"\")\n",
    "    if name:\n",
    "        resp = f\"Hello {title} {name}\" if title else f\"Hello {name}\"\n",
    "    else:\n",
    "        resp = f\"Hello {title}\" if title else \"Hello\"\n",
    "    return resp\n",
    "\n",
    "if __name__ == '__main__':\n",
    "    app.run()"
   ]
  },
  {
   "cell_type": "code",
   "execution_count": null,
   "id": "ca9c31e8-7504-4959-8692-b1e5058f6184",
   "metadata": {},
   "outputs": [],
   "source": [
    "p = subprocess.Popen([\"python\", \"app2.py\"])"
   ]
  },
  {
   "cell_type": "code",
   "execution_count": null,
   "id": "50bf8674-8ed6-4408-a0d3-e3def702b4c8",
   "metadata": {},
   "outputs": [],
   "source": [
    "response = requests.get(\"http://127.0.0.1:5000/hello\")\n",
    "response.content"
   ]
  },
  {
   "cell_type": "code",
   "execution_count": null,
   "id": "1c544d0f-6c6a-4a2b-9ecc-daa663bc46ec",
   "metadata": {},
   "outputs": [],
   "source": [
    "response = requests.get(\"http://127.0.0.1:5000/hello?name=Sebastian\")\n",
    "response.content"
   ]
  },
  {
   "cell_type": "code",
   "execution_count": null,
   "id": "624f014e-90b3-44e5-978c-8f8ae901a59c",
   "metadata": {},
   "outputs": [],
   "source": [
    "response = requests.get(\"http://127.0.0.1:5000/hello?name=Sebastian&title=mr\")\n",
    "response.content"
   ]
  },
  {
   "cell_type": "code",
   "execution_count": null,
   "id": "b30cb861-4609-49d6-b8f9-1ed8fccf233b",
   "metadata": {},
   "outputs": [],
   "source": [
    "response = requests.get(\"http://127.0.0.1:5000/hello\", params={\"name\": \"Sebastian\", \"title\": \"mr\"})\n",
    "response.content"
   ]
  },
  {
   "cell_type": "code",
   "execution_count": null,
   "id": "eca06d8a-f09c-4730-a399-6d7b4701c94f",
   "metadata": {},
   "outputs": [],
   "source": [
    "p.kill()"
   ]
  },
  {
   "cell_type": "code",
   "execution_count": null,
   "id": "240ac3de-0433-4166-969b-4d2f7b9b4349",
   "metadata": {},
   "outputs": [],
   "source": [
    "%%file app3.py\n",
    "\n",
    "from flask import Flask\n",
    "from flask import request\n",
    "\n",
    "# Create a flask\n",
    "app = Flask(__name__)\n",
    "\n",
    "# Create an API end point\n",
    "@app.route(\"/api/v1.0/predict\", methods=['GET'])\n",
    "def make_prediction():\n",
    "    x1 = request.args.get(\"x1\", 0, type=float)\n",
    "    x2 = request.args.get(\"x2\", 0, type=float)\n",
    "    \n",
    "    # \"model\"\n",
    "    if sum([x1, x2]) > 5.8:\n",
    "        pred = 1\n",
    "    else:\n",
    "        pred = 0\n",
    "\n",
    "    return {\"prediction\": pred, \"features\": {\"x1\": x1, \"x2\": x2}}\n",
    "\n",
    "if __name__ == '__main__':\n",
    "    app.run()"
   ]
  },
  {
   "cell_type": "code",
   "execution_count": null,
   "id": "e8e82396-7373-4a19-96c3-b05390436588",
   "metadata": {},
   "outputs": [],
   "source": [
    "p = subprocess.Popen([\"python\", \"app3.py\"])"
   ]
  },
  {
   "cell_type": "code",
   "execution_count": null,
   "id": "17af27b6-997e-4be2-bf2f-8ccb579d1ad4",
   "metadata": {},
   "outputs": [],
   "source": [
    "response = requests.get(\"http://127.0.0.1:5000/api/v1.0/predict\")\n",
    "response.json()"
   ]
  },
  {
   "cell_type": "code",
   "execution_count": null,
   "id": "a99f9db0-0851-4c6a-abfb-a5afe43a8e79",
   "metadata": {},
   "outputs": [],
   "source": [
    "response = requests.get(\"http://127.0.0.1:5000/api/v1.0/predict\", params={\"x1\": 2, \"x2\": 3.1})\n",
    "response.json()"
   ]
  },
  {
   "cell_type": "code",
   "execution_count": null,
   "id": "070c42a8-57a3-4086-9613-d98d6167ab13",
   "metadata": {},
   "outputs": [],
   "source": [
    "response = requests.get(\"http://127.0.0.1:5000/api/v1.0/predict\", params={\"x1\": 2.5, \"x2\": 3.4})\n",
    "response.json()"
   ]
  },
  {
   "cell_type": "code",
   "execution_count": null,
   "id": "58b1e32a-5e99-4541-865d-ef7276ae83c6",
   "metadata": {},
   "outputs": [],
   "source": [
    "p.kill()"
   ]
  },
  {
   "cell_type": "markdown",
   "id": "062c5434-541b-48bb-80d2-d6df01414342",
   "metadata": {},
   "source": [
    "## MODEL Deploy"
   ]
  },
  {
   "cell_type": "code",
   "execution_count": null,
   "id": "c9e84622-9ecd-4625-a319-f2d888f06d0b",
   "metadata": {},
   "outputs": [],
   "source": [
    "class Perceptron(object):\n",
    "    \n",
    "    def __init__(self, eta=0.01, n_iter=10):\n",
    "        self.eta = eta\n",
    "        self.n_iter = n_iter\n",
    "    \n",
    "    def fit(self, X, y):\n",
    "        self.w_ = np.zeros(1+X.shape[1])\n",
    "        self.errors_ = []\n",
    "        \n",
    "        for _ in range(self.n_iter):\n",
    "            errors = 0\n",
    "            for xi, target in zip(X,y):\n",
    "                update = self.eta*(target - self.predict(xi))\n",
    "                self.w_[1:] += update*xi\n",
    "                self.w_[0] += update\n",
    "                errors += int(update != 0.0)\n",
    "                \n",
    "            self.errors_.append(errors)\n",
    "        return self\n",
    "    \n",
    "    def net_input(self, X):\n",
    "        return np.dot(X, self.w_[1:]) + self.w_[0]\n",
    "    \n",
    "    def predict(self, X):\n",
    "        return np.where(self.net_input(X) >= 0.0, 1, -1)"
   ]
  },
  {
   "cell_type": "code",
   "execution_count": null,
   "id": "131a1606-10a0-435c-8656-9f135bc7f42e",
   "metadata": {},
   "outputs": [],
   "source": [
    "model = Perceptron()"
   ]
  },
  {
   "cell_type": "code",
   "execution_count": null,
   "id": "cb1c94e1-e207-4bb2-bd92-33c44f5109b4",
   "metadata": {},
   "outputs": [],
   "source": [
    "model.fit(X,y)"
   ]
  },
  {
   "cell_type": "code",
   "execution_count": null,
   "id": "8e2b2530-5b1f-4777-8f4c-48d50f5c88c0",
   "metadata": {},
   "outputs": [],
   "source": [
    "import pandas as pd\n",
    "import numpy as np\n",
    "from sklearn.datasets import load_iris\n",
    "\n",
    "iris = load_iris()"
   ]
  },
  {
   "cell_type": "code",
   "execution_count": null,
   "id": "70a1d570-39af-4015-ab11-e94b348a4f0a",
   "metadata": {},
   "outputs": [],
   "source": [
    "df = pd.DataFrame(data= np.c_[iris['data'], iris['target']],\n",
    "                  columns= iris['feature_names'] + ['target'])"
   ]
  },
  {
   "cell_type": "code",
   "execution_count": null,
   "id": "3220e3e3-7127-4799-979b-64b71b266725",
   "metadata": {},
   "outputs": [],
   "source": [
    "X = df.iloc[:100,[0,2]].values\n",
    "y = df.iloc[0:100,4].values\n",
    "y = np.where(y == 0, -1, 1)"
   ]
  },
  {
   "cell_type": "code",
   "execution_count": null,
   "id": "890c6373-716b-40ef-ba25-39a9d91b0061",
   "metadata": {},
   "outputs": [],
   "source": [
    "from matplotlib import pyplot as plt\n",
    "plt.scatter(X[:50,0],X[:50,1],color='red', marker='o',label='setosa')\n",
    "plt.scatter(X[50:100,0],X[50:100,1],color='blue', marker='x',label='versicolor')\n",
    "plt.xlabel('sepal length (cm)')\n",
    "plt.ylabel('petal length (cm)')\n",
    "plt.legend(loc='upper left')\n",
    "plt.show()"
   ]
  },
  {
   "cell_type": "code",
   "execution_count": null,
   "id": "d3c27624-0422-42d9-82c2-e7aa8c97514a",
   "metadata": {},
   "outputs": [],
   "source": [
    "model.fit(X,y)"
   ]
  },
  {
   "cell_type": "code",
   "execution_count": null,
   "id": "86830d34-daba-4c9a-b5ed-f4443f358e1f",
   "metadata": {},
   "outputs": [],
   "source": [
    "model.errors_"
   ]
  },
  {
   "cell_type": "code",
   "execution_count": null,
   "id": "345f5607-c403-408c-aee8-28985022902f",
   "metadata": {},
   "outputs": [],
   "source": [
    "model.w_"
   ]
  },
  {
   "cell_type": "code",
   "execution_count": null,
   "id": "65c30423-ddc7-4520-affd-da17d8b009fa",
   "metadata": {},
   "outputs": [],
   "source": [
    "model.predict(X)"
   ]
  },
  {
   "cell_type": "code",
   "execution_count": null,
   "id": "0ecfd87f-d250-4d87-8986-962f5cc51940",
   "metadata": {},
   "outputs": [],
   "source": [
    "import pickle\n",
    "with open(\"model.pkl\", \"wb\") as fh:\n",
    "    pickle.dump(model, fh)"
   ]
  },
  {
   "cell_type": "code",
   "execution_count": null,
   "id": "69ab9cbd-85bc-4900-8603-12f6574769e9",
   "metadata": {},
   "outputs": [],
   "source": [
    "with open(\"model.pkl\", \"rb\") as fh:    \n",
    "    loaded_model = pickle.load(fh)"
   ]
  },
  {
   "cell_type": "code",
   "execution_count": null,
   "id": "4817d49a-945e-4fc0-8f84-35ac2785c238",
   "metadata": {},
   "outputs": [],
   "source": [
    "loaded_model.predict(X)"
   ]
  },
  {
   "cell_type": "markdown",
   "id": "8364a1fd-67e9-4297-af43-81605387ee5b",
   "metadata": {},
   "source": [
    "# prepare flask server with json response \n",
    "\n",
    "```python\n",
    "...\n",
    "return jsonify(features=features, predicted_class=predicted_class)\n",
    "...\n",
    "```\n",
    "\n",
    "Generate prediction for sepal_length = 4.5 and petal_length=1.3"
   ]
  },
  {
   "cell_type": "code",
   "execution_count": null,
   "id": "1cf5cc63-7334-474d-a36b-0ebe19809476",
   "metadata": {},
   "outputs": [],
   "source": []
  }
 ],
 "metadata": {
  "kernelspec": {
   "display_name": "Python 3 (ipykernel)",
   "language": "python",
   "name": "python3"
  },
  "language_info": {
   "codemirror_mode": {
    "name": "ipython",
    "version": 3
   },
   "file_extension": ".py",
   "mimetype": "text/x-python",
   "name": "python",
   "nbconvert_exporter": "python",
   "pygments_lexer": "ipython3",
   "version": "3.10.8"
  }
 },
 "nbformat": 4,
 "nbformat_minor": 5
}
