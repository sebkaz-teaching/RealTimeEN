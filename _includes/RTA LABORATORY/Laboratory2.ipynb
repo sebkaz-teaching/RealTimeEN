{
 "cells": [
  {
   "cell_type": "markdown",
   "id": "fdf372ab-5809-44f4-addb-83ab752a5123",
   "metadata": {},
   "source": [
    "# RDD Transformations and Actions\n",
    "\n",
    "In this lecture we will begin to delve deeper into using Spark and Python. Please view the video lecture for a full explanation.\n",
    "\n",
    "## Important Terms\n",
    "\n",
    "Let's quickly go over some important terms:\n",
    "\n",
    "Term                   |Definition\n",
    "----                   |-------\n",
    "RDD                    |Resilient Distributed Dataset\n",
    "Transformation         |Spark operation that produces an RDD\n",
    "Action                 |Spark operation that produces a local object\n",
    "Spark Job              |Sequence of transformations on data with a final action"
   ]
  },
  {
   "cell_type": "markdown",
   "id": "0e86ceea-9c1f-4cdd-acfa-08a9aca26c91",
   "metadata": {},
   "source": [
    "## Creating an RDD\n",
    "\n",
    "There are two common ways to create an RDD:\n",
    "\n",
    "Method                      |Result\n",
    "----------                               |-------\n",
    "`sc.parallelize(array)`                  |Create RDD of elements of array (or list)\n",
    "`sc.textFile(path/to/file)`                      |Create RDD of lines from file"
   ]
  },
  {
   "cell_type": "markdown",
   "id": "9589457b-fc68-4ef3-8b92-e7d453a62ad2",
   "metadata": {},
   "source": [
    "## RDD Transformations\n",
    "\n",
    "We can use transformations to create a set of instructions we want to preform on the RDD (before we call an action and actually execute them).\n",
    "\n",
    "Transformation Example                          |Result\n",
    "----------                               |-------\n",
    "`filter(lambda x: x % 2 == 0)`           |Discard non-even elements\n",
    "`map(lambda x: x * 2)`                   |Multiply each RDD element by `2`\n",
    "`map(lambda x: x.split())`               |Split each string into words\n",
    "`flatMap(lambda x: x.split())`           |Split each string into words and flatten sequence\n",
    "`sample(withReplacement=True,0.25)`      |Create sample of 25% of elements with replacement\n",
    "`union(rdd)`                             |Append `rdd` to existing RDD\n",
    "`distinct()`                             |Remove duplicates in RDD\n",
    "`sortBy(lambda x: x, ascending=False)`   |Sort elements in descending order"
   ]
  },
  {
   "cell_type": "markdown",
   "id": "8d4fd2ba-8eb8-414e-92b4-b4084973d7b7",
   "metadata": {},
   "source": [
    "## RDD Actions\n",
    "\n",
    "Once you have your 'recipe' of transformations ready, what you will do next is execute them by calling an action. Here are some common actions:\n",
    "\n",
    "Action                             |Result\n",
    "----------                             |-------\n",
    "`collect()`                            |Convert RDD to in-memory list \n",
    "`take(3)`                              |First 3 elements of RDD \n",
    "`top(3)`                               |Top 3 elements of RDD\n",
    "`takeSample(withReplacement=True,3)`   |Create sample of 3 elements with replacement\n",
    "`sum()`                                |Find element sum (assumes numeric elements)\n",
    "`mean()`                               |Find element mean (assumes numeric elements)\n",
    "`stdev()`                              |Find element deviation (assumes numeric elements)"
   ]
  },
  {
   "cell_type": "code",
   "execution_count": null,
   "id": "cdbf0706-0ccd-407a-9755-4f9bfc33cc58",
   "metadata": {},
   "outputs": [],
   "source": []
  },
  {
   "cell_type": "code",
   "execution_count": 2,
   "id": "aec9fb5e-b512-4ff4-9998-6856fea777b4",
   "metadata": {},
   "outputs": [],
   "source": [
    "from pyspark.sql import SparkSession\n",
    "\n",
    "spark = SparkSession.builder\\\n",
    "        .appName(\"new\")\\\n",
    "        .getOrCreate()"
   ]
  },
  {
   "cell_type": "code",
   "execution_count": 3,
   "id": "c72b5bd9-c933-4467-8172-b819d198b397",
   "metadata": {},
   "outputs": [
    {
     "data": {
      "text/html": [
       "\n",
       "            <div>\n",
       "                <p><b>SparkSession - in-memory</b></p>\n",
       "                \n",
       "        <div>\n",
       "            <p><b>SparkContext</b></p>\n",
       "\n",
       "            <p><a href=\"http://82aa33b3d679:4042\">Spark UI</a></p>\n",
       "\n",
       "            <dl>\n",
       "              <dt>Version</dt>\n",
       "                <dd><code>v3.3.0</code></dd>\n",
       "              <dt>Master</dt>\n",
       "                <dd><code>local[*]</code></dd>\n",
       "              <dt>AppName</dt>\n",
       "                <dd><code>new</code></dd>\n",
       "            </dl>\n",
       "        </div>\n",
       "        \n",
       "            </div>\n",
       "        "
      ],
      "text/plain": [
       "<pyspark.sql.session.SparkSession at 0xffff64e2ae60>"
      ]
     },
     "execution_count": 3,
     "metadata": {},
     "output_type": "execute_result"
    }
   ],
   "source": [
    "spark"
   ]
  },
  {
   "cell_type": "code",
   "execution_count": 3,
   "id": "c4906728-046f-4d00-8e9e-b9185d7c463e",
   "metadata": {},
   "outputs": [],
   "source": [
    "sc = spark.sparkContext"
   ]
  },
  {
   "cell_type": "code",
   "execution_count": 4,
   "id": "34af394b-ff82-46e9-80c9-e6ee1ff62517",
   "metadata": {},
   "outputs": [
    {
     "data": {
      "text/plain": [
       "PythonRDD[1] at RDD at PythonRDD.scala:53"
      ]
     },
     "execution_count": 4,
     "metadata": {},
     "output_type": "execute_result"
    }
   ],
   "source": [
    "rdd = sc.parallelize(range(10))\n",
    "rdd"
   ]
  },
  {
   "cell_type": "code",
   "execution_count": 5,
   "id": "86355908-894d-4119-ad96-7ca87639c5b0",
   "metadata": {},
   "outputs": [
    {
     "data": {
      "text/plain": [
       "4.5"
      ]
     },
     "execution_count": 5,
     "metadata": {},
     "output_type": "execute_result"
    }
   ],
   "source": [
    "rdd.first()\n",
    "rdd.take(2)\n",
    "rdd.takeSample(True,3)\n",
    "rdd.takeSample(False,3)\n",
    "rdd.count()\n",
    "rdd.mean()"
   ]
  },
  {
   "cell_type": "code",
   "execution_count": 6,
   "id": "2a9e1bf1-a0ab-4fe1-bd4b-f4eca44d00f8",
   "metadata": {},
   "outputs": [],
   "source": [
    "rdd2 = rdd.map(lambda x: x*x).collect()\n",
    "rdd3 = rdd.map(lambda x: [x,x]).collect()\n",
    "rdd4 = rdd.flatMap(lambda x: [x,x]).collect()"
   ]
  },
  {
   "cell_type": "code",
   "execution_count": 54,
   "id": "782ea3a1-3913-464d-b61a-5f8f6ffbd52e",
   "metadata": {},
   "outputs": [
    {
     "data": {
      "text/plain": [
       "378"
      ]
     },
     "execution_count": 54,
     "metadata": {},
     "output_type": "execute_result"
    }
   ],
   "source": [
    "sc.parallelize(range(20)) \\\n",
    ".map(lambda x: x * 2) \\\n",
    ".filter(lambda x: x != 2) \\\n",
    ".reduce(lambda x,y: x + y)"
   ]
  },
  {
   "cell_type": "code",
   "execution_count": 7,
   "id": "a9d454e6-6dd5-4426-93df-038868e742d8",
   "metadata": {},
   "outputs": [
    {
     "data": {
      "text/plain": [
       "dict_items([('aa', 3), ('bb', 1), ('cc', 2), ('dd', 3), ('ee', 1), ('ff', 1)])"
      ]
     },
     "execution_count": 7,
     "metadata": {},
     "output_type": "execute_result"
    }
   ],
   "source": [
    "rdd11a = sc.parallelize(('aa','bb','cc','dd','aa','cc','ee','ff','dd','dd','aa'))\n",
    "rdd11b = rdd11a.map(lambda k: (k,1))\n",
    "rdd11b.countByKey().items()"
   ]
  },
  {
   "cell_type": "code",
   "execution_count": 8,
   "id": "896a2243-4bf9-4eb0-bf2f-ebb949938a28",
   "metadata": {},
   "outputs": [
    {
     "data": {
      "text/plain": [
       "[('aa', (1, 1)),\n",
       " ('aa', (1, 1)),\n",
       " ('tt', (None, 1)),\n",
       " ('cc', (1, 1)),\n",
       " ('mm', (None, 1)),\n",
       " ('rr', (None, 1))]"
      ]
     },
     "execution_count": 8,
     "metadata": {},
     "output_type": "execute_result"
    }
   ],
   "source": [
    "rdda1 = sc.parallelize(('aa','bb','cc','dd','ee','ff','gg','aa')).map(lambda k: (k,1))\n",
    "rdda2 = sc.parallelize(('aa','cc','mm','rr','tt')).map(lambda k: (k,1))\n",
    "rdda1.join(rdda2).collect()\n",
    "\n",
    "rdda1.leftOuterJoin(rdda2).collect()\n",
    "\n",
    "rdda1.rightOuterJoin(rdda2).collect()"
   ]
  },
  {
   "cell_type": "code",
   "execution_count": 9,
   "id": "0eaec37a-4db7-4d71-b3af-8985bbe4cae6",
   "metadata": {},
   "outputs": [
    {
     "name": "stdout",
     "output_type": "stream",
     "text": [
      "Overwriting example.txt\n"
     ]
    }
   ],
   "source": [
    "%%file example.txt\n",
    "first\n",
    "second line\n",
    "the third line\n",
    "then a fourth line"
   ]
  },
  {
   "cell_type": "code",
   "execution_count": 10,
   "id": "52dfa8b0-45b1-43df-91c5-f5102a8e229f",
   "metadata": {},
   "outputs": [],
   "source": [
    "text_rdd = sc.textFile('example.txt')"
   ]
  },
  {
   "cell_type": "code",
   "execution_count": 11,
   "id": "b29b49e7-3c5b-483e-b5c1-6831d27d5426",
   "metadata": {},
   "outputs": [
    {
     "data": {
      "text/plain": [
       "'first'"
      ]
     },
     "execution_count": 11,
     "metadata": {},
     "output_type": "execute_result"
    }
   ],
   "source": [
    "text_rdd.first()"
   ]
  },
  {
   "cell_type": "code",
   "execution_count": 12,
   "id": "3aa96d33-06b0-410e-be0e-6f641c9feba6",
   "metadata": {},
   "outputs": [
    {
     "data": {
      "text/plain": [
       "[['first'],\n",
       " ['second', 'line'],\n",
       " ['the', 'third', 'line'],\n",
       " ['then', 'a', 'fourth', 'line']]"
      ]
     },
     "execution_count": 12,
     "metadata": {},
     "output_type": "execute_result"
    }
   ],
   "source": [
    "text_rdd.map(lambda line: line.split()).collect()"
   ]
  },
  {
   "cell_type": "code",
   "execution_count": 13,
   "id": "a66ebf47-d432-4642-a542-b8079ff06063",
   "metadata": {},
   "outputs": [
    {
     "data": {
      "text/plain": [
       "[['first'],\n",
       " ['second', 'line'],\n",
       " ['the', 'third', 'line'],\n",
       " ['then', 'a', 'fourth', 'line']]"
      ]
     },
     "execution_count": 13,
     "metadata": {},
     "output_type": "execute_result"
    }
   ],
   "source": [
    "def nasza_fun(line):\n",
    "    return line.split()\n",
    "\n",
    "text_rdd.map(nasza_fun).collect()"
   ]
  },
  {
   "cell_type": "code",
   "execution_count": 14,
   "id": "a959d544-3a90-4e02-b96f-174189782c37",
   "metadata": {},
   "outputs": [
    {
     "data": {
      "text/plain": [
       "['first',\n",
       " 'second',\n",
       " 'line',\n",
       " 'the',\n",
       " 'third',\n",
       " 'line',\n",
       " 'then',\n",
       " 'a',\n",
       " 'fourth',\n",
       " 'line']"
      ]
     },
     "execution_count": 14,
     "metadata": {},
     "output_type": "execute_result"
    }
   ],
   "source": [
    "text_rdd.flatMap(lambda line: line.split()).collect()"
   ]
  },
  {
   "cell_type": "code",
   "execution_count": 15,
   "id": "0cdb44b8-856f-4659-960e-0c58471819db",
   "metadata": {},
   "outputs": [
    {
     "name": "stdout",
     "output_type": "stream",
     "text": [
      "+----+----+----+-----+\n",
      "|col1|col2|col3| col4|\n",
      "+----+----+----+-----+\n",
      "|   1|   2|   3|a b c|\n",
      "|   4|   5|   6|d e f|\n",
      "|   7|   8|   9|g h i|\n",
      "+----+----+----+-----+\n",
      "\n",
      "root\n",
      " |-- col1: long (nullable = true)\n",
      " |-- col2: long (nullable = true)\n",
      " |-- col3: long (nullable = true)\n",
      " |-- col4: string (nullable = true)\n",
      "\n"
     ]
    }
   ],
   "source": [
    "rdd = sc.parallelize([(1, 2, 3, 'a b c'),\n",
    "             (4, 5, 6, 'd e f'),\n",
    "             (7, 8, 9, 'g h i')])\n",
    "df = rdd.toDF(['col1', 'col2', 'col3','col4'])\n",
    "df.show()  \n",
    "df.printSchema()"
   ]
  },
  {
   "cell_type": "code",
   "execution_count": 16,
   "id": "acb58316-431b-451c-97e7-51ba58993125",
   "metadata": {},
   "outputs": [
    {
     "name": "stdout",
     "output_type": "stream",
     "text": [
      "+---+-----+-------+------------+\n",
      "| Id| Name|Sallary|DepartmentId|\n",
      "+---+-----+-------+------------+\n",
      "|  1|  Joe|  70000|           1|\n",
      "|  2|Henry|  80000|           2|\n",
      "|  3|  Sam|  60000|           2|\n",
      "|  4|  Max|  90000|           1|\n",
      "+---+-----+-------+------------+\n",
      "\n",
      "root\n",
      " |-- Id: string (nullable = true)\n",
      " |-- Name: string (nullable = true)\n",
      " |-- Sallary: string (nullable = true)\n",
      " |-- DepartmentId: string (nullable = true)\n",
      "\n"
     ]
    }
   ],
   "source": [
    "dfe = spark.createDataFrame([\n",
    "                        ('1', 'Joe',   '70000', '1'),\n",
    "                        ('2', 'Henry', '80000', '2'),\n",
    "                        ('3', 'Sam',   '60000', '2'),\n",
    "                        ('4', 'Max',   '90000', '1')],\n",
    "                        ['Id', 'Name', 'Sallary','DepartmentId']\n",
    "                       )\n",
    "dfe.show()\n",
    "dfe.printSchema()"
   ]
  },
  {
   "cell_type": "code",
   "execution_count": 17,
   "id": "89866860-2f22-4ed0-bcd5-1738a88fc167",
   "metadata": {},
   "outputs": [
    {
     "name": "stdout",
     "output_type": "stream",
     "text": [
      "+-------+------------+-------------------+\n",
      "|Revenue|  Department|               Date|\n",
      "+-------+------------+-------------------+\n",
      "|     10|Direct Sales|2019-01-01 00:00:00|\n",
      "|     12|Direct Sales|2019-01-02 00:00:00|\n",
      "|     20|Online Sales|2019-01-01 00:00:00|\n",
      "|     25|Online Sales|2019-01-02 00:00:00|\n",
      "+-------+------------+-------------------+\n",
      "\n"
     ]
    }
   ],
   "source": [
    "from pyspark.sql.functions import udf, array\n",
    "from pyspark.sql.types import StringType\n",
    "from datetime import datetime as Date\n",
    "data = [\n",
    "[10,'Direct Sales',Date(2019,1,1)],\n",
    "[12,'Direct Sales',Date(2019,1,2)],\n",
    "[20,'Online Sales',Date(2019,1,1)],\n",
    "[25,'Online Sales',Date(2019,1,2)],\n",
    "]\n",
    "df = spark.createDataFrame(data , ['Revenue','Department','Date'])\n",
    "df.show()\n"
   ]
  },
  {
   "attachments": {},
   "cell_type": "markdown",
   "id": "0580c69a-150c-4b1d-8463-7ec98715f1a4",
   "metadata": {},
   "source": [
    "# read data from file "
   ]
  },
  {
   "cell_type": "code",
   "execution_count": 5,
   "id": "f41e2515-f032-41a4-9d33-c775e51ceea0",
   "metadata": {},
   "outputs": [],
   "source": [
    "adultDF = spark.read.csv(\"adult.data\", inferSchema=True, ignoreLeadingWhiteSpace=True)"
   ]
  },
  {
   "cell_type": "code",
   "execution_count": 6,
   "id": "b6c6d9e4-6aff-412f-856f-eb34cf57567c",
   "metadata": {},
   "outputs": [
    {
     "data": {
      "text/plain": [
       "[Row(_c0=39, _c1='State-gov', _c2=77516, _c3='Bachelors', _c4=13, _c5='Never-married', _c6='Adm-clerical', _c7='Not-in-family', _c8='White', _c9='Male', _c10=2174, _c11=0, _c12=40, _c13='United-States', _c14='<=50K')]"
      ]
     },
     "execution_count": 6,
     "metadata": {},
     "output_type": "execute_result"
    }
   ],
   "source": [
    "adultDF.take(1)"
   ]
  },
  {
   "cell_type": "code",
   "execution_count": 7,
   "id": "d27403b9-e424-40a1-aea5-854c0793e5fa",
   "metadata": {},
   "outputs": [
    {
     "name": "stdout",
     "output_type": "stream",
     "text": [
      "+---+----------------+-----+---------+---+------------------+---------------+-------------+-----+----+----+----+----+-------------+-----+\n",
      "|_c0|             _c1|  _c2|      _c3|_c4|               _c5|            _c6|          _c7|  _c8| _c9|_c10|_c11|_c12|         _c13| _c14|\n",
      "+---+----------------+-----+---------+---+------------------+---------------+-------------+-----+----+----+----+----+-------------+-----+\n",
      "| 39|       State-gov|77516|Bachelors| 13|     Never-married|   Adm-clerical|Not-in-family|White|Male|2174|   0|  40|United-States|<=50K|\n",
      "| 50|Self-emp-not-inc|83311|Bachelors| 13|Married-civ-spouse|Exec-managerial|      Husband|White|Male|   0|   0|  13|United-States|<=50K|\n",
      "+---+----------------+-----+---------+---+------------------+---------------+-------------+-----+----+----+----+----+-------------+-----+\n",
      "only showing top 2 rows\n",
      "\n"
     ]
    }
   ],
   "source": [
    "adultDF.show(2)"
   ]
  },
  {
   "cell_type": "code",
   "execution_count": 8,
   "id": "f9e5f95f-7b56-41a1-8b9e-f579063fdf27",
   "metadata": {},
   "outputs": [],
   "source": [
    "col_names = [\"age\", \"workclass\", \"fnlwgt\", \n",
    "             \"education\", \"education-num\", \n",
    "             \"material-status\", \"occupation\",\n",
    "             \"relationship\", \"race\", \"sex\", \n",
    "             \"capital-gain\", \"capital-loss\",\n",
    "             \"hours-per-week\", \"native-country\",\n",
    "             \"earings\"]\n",
    "adultDF = adultDF.toDF(*col_names)"
   ]
  },
  {
   "cell_type": "code",
   "execution_count": 10,
   "id": "ba772348-0c78-40f1-be3d-7018c5651970",
   "metadata": {},
   "outputs": [
    {
     "name": "stdout",
     "output_type": "stream",
     "text": [
      "-RECORD 0-----------------------------\n",
      " age             | 39                 \n",
      " workclass       | State-gov          \n",
      " fnlwgt          | 77516              \n",
      " education       | Bachelors          \n",
      " education-num   | 13                 \n",
      " material-status | Never-married      \n",
      " occupation      | Adm-clerical       \n",
      " relationship    | Not-in-family      \n",
      " race            | White              \n",
      " sex             | Male               \n",
      " capital-gain    | 2174               \n",
      " capital-loss    | 0                  \n",
      " hours-per-week  | 40                 \n",
      " native-country  | United-States      \n",
      " earings         | <=50K              \n",
      "-RECORD 1-----------------------------\n",
      " age             | 50                 \n",
      " workclass       | Self-emp-not-inc   \n",
      " fnlwgt          | 83311              \n",
      " education       | Bachelors          \n",
      " education-num   | 13                 \n",
      " material-status | Married-civ-spouse \n",
      " occupation      | Exec-managerial    \n",
      " relationship    | Husband            \n",
      " race            | White              \n",
      " sex             | Male               \n",
      " capital-gain    | 0                  \n",
      " capital-loss    | 0                  \n",
      " hours-per-week  | 13                 \n",
      " native-country  | United-States      \n",
      " earings         | <=50K              \n",
      "only showing top 2 rows\n",
      "\n"
     ]
    }
   ],
   "source": [
    "adultDF.show(2, vertical=True)"
   ]
  },
  {
   "cell_type": "code",
   "execution_count": 11,
   "id": "35844f96-55ae-4306-a007-9d5be39ec326",
   "metadata": {},
   "outputs": [
    {
     "name": "stdout",
     "output_type": "stream",
     "text": [
      "root\n",
      " |-- age: integer (nullable = true)\n",
      " |-- workclass: string (nullable = true)\n",
      " |-- fnlwgt: integer (nullable = true)\n",
      " |-- education: string (nullable = true)\n",
      " |-- education-num: integer (nullable = true)\n",
      " |-- material-status: string (nullable = true)\n",
      " |-- occupation: string (nullable = true)\n",
      " |-- relationship: string (nullable = true)\n",
      " |-- race: string (nullable = true)\n",
      " |-- sex: string (nullable = true)\n",
      " |-- capital-gain: integer (nullable = true)\n",
      " |-- capital-loss: integer (nullable = true)\n",
      " |-- hours-per-week: integer (nullable = true)\n",
      " |-- native-country: string (nullable = true)\n",
      " |-- earings: string (nullable = true)\n",
      "\n"
     ]
    }
   ],
   "source": [
    "adultDF.printSchema()"
   ]
  },
  {
   "cell_type": "code",
   "execution_count": 12,
   "id": "0233c545-3431-4d4c-8b4d-683d4e6a0104",
   "metadata": {},
   "outputs": [],
   "source": [
    "adultDF = adultDF.drop(\"fnlwgt\").dropna(\"any\")"
   ]
  },
  {
   "cell_type": "code",
   "execution_count": 14,
   "id": "7c9a9a5c-8371-4d54-ac58-8c47e6bb7017",
   "metadata": {},
   "outputs": [
    {
     "name": "stdout",
     "output_type": "stream",
     "text": [
      "-RECORD 0------------------------\n",
      " age             | 39            \n",
      " workclass       | State-gov     \n",
      " education       | Bachelors     \n",
      " education-num   | 13            \n",
      " material-status | Never-married \n",
      " occupation      | Adm-clerical  \n",
      " relationship    | Not-in-family \n",
      " race            | White         \n",
      " sex             | Male          \n",
      " capital-gain    | 2174          \n",
      " capital-loss    | 0             \n",
      " hours-per-week  | 40            \n",
      " native-country  | United-States \n",
      " earings         | <=50K         \n",
      "only showing top 1 row\n",
      "\n"
     ]
    }
   ],
   "source": [
    "adultDF.show(1, vertical=True)"
   ]
  },
  {
   "cell_type": "code",
   "execution_count": 15,
   "id": "888e1d3d-7cac-4e9c-9140-29c8dd582129",
   "metadata": {},
   "outputs": [],
   "source": [
    "df = adultDF.toPandas()"
   ]
  },
  {
   "cell_type": "code",
   "execution_count": 16,
   "id": "19ca9984-4ef2-4592-8fd5-678ccf0edd5e",
   "metadata": {},
   "outputs": [
    {
     "data": {
      "text/html": [
       "<div>\n",
       "<style scoped>\n",
       "    .dataframe tbody tr th:only-of-type {\n",
       "        vertical-align: middle;\n",
       "    }\n",
       "\n",
       "    .dataframe tbody tr th {\n",
       "        vertical-align: top;\n",
       "    }\n",
       "\n",
       "    .dataframe thead th {\n",
       "        text-align: right;\n",
       "    }\n",
       "</style>\n",
       "<table border=\"1\" class=\"dataframe\">\n",
       "  <thead>\n",
       "    <tr style=\"text-align: right;\">\n",
       "      <th></th>\n",
       "      <th>age</th>\n",
       "      <th>education-num</th>\n",
       "      <th>capital-gain</th>\n",
       "      <th>capital-loss</th>\n",
       "      <th>hours-per-week</th>\n",
       "    </tr>\n",
       "  </thead>\n",
       "  <tbody>\n",
       "    <tr>\n",
       "      <th>count</th>\n",
       "      <td>32561.000000</td>\n",
       "      <td>32561.000000</td>\n",
       "      <td>32561.000000</td>\n",
       "      <td>32561.000000</td>\n",
       "      <td>32561.000000</td>\n",
       "    </tr>\n",
       "    <tr>\n",
       "      <th>mean</th>\n",
       "      <td>38.581647</td>\n",
       "      <td>10.080679</td>\n",
       "      <td>1077.648844</td>\n",
       "      <td>87.303830</td>\n",
       "      <td>40.437456</td>\n",
       "    </tr>\n",
       "    <tr>\n",
       "      <th>std</th>\n",
       "      <td>13.640433</td>\n",
       "      <td>2.572720</td>\n",
       "      <td>7385.292085</td>\n",
       "      <td>402.960219</td>\n",
       "      <td>12.347429</td>\n",
       "    </tr>\n",
       "    <tr>\n",
       "      <th>min</th>\n",
       "      <td>17.000000</td>\n",
       "      <td>1.000000</td>\n",
       "      <td>0.000000</td>\n",
       "      <td>0.000000</td>\n",
       "      <td>1.000000</td>\n",
       "    </tr>\n",
       "    <tr>\n",
       "      <th>25%</th>\n",
       "      <td>28.000000</td>\n",
       "      <td>9.000000</td>\n",
       "      <td>0.000000</td>\n",
       "      <td>0.000000</td>\n",
       "      <td>40.000000</td>\n",
       "    </tr>\n",
       "    <tr>\n",
       "      <th>50%</th>\n",
       "      <td>37.000000</td>\n",
       "      <td>10.000000</td>\n",
       "      <td>0.000000</td>\n",
       "      <td>0.000000</td>\n",
       "      <td>40.000000</td>\n",
       "    </tr>\n",
       "    <tr>\n",
       "      <th>75%</th>\n",
       "      <td>48.000000</td>\n",
       "      <td>12.000000</td>\n",
       "      <td>0.000000</td>\n",
       "      <td>0.000000</td>\n",
       "      <td>45.000000</td>\n",
       "    </tr>\n",
       "    <tr>\n",
       "      <th>max</th>\n",
       "      <td>90.000000</td>\n",
       "      <td>16.000000</td>\n",
       "      <td>99999.000000</td>\n",
       "      <td>4356.000000</td>\n",
       "      <td>99.000000</td>\n",
       "    </tr>\n",
       "  </tbody>\n",
       "</table>\n",
       "</div>"
      ],
      "text/plain": [
       "                age  education-num  capital-gain  capital-loss  hours-per-week\n",
       "count  32561.000000   32561.000000  32561.000000  32561.000000    32561.000000\n",
       "mean      38.581647      10.080679   1077.648844     87.303830       40.437456\n",
       "std       13.640433       2.572720   7385.292085    402.960219       12.347429\n",
       "min       17.000000       1.000000      0.000000      0.000000        1.000000\n",
       "25%       28.000000       9.000000      0.000000      0.000000       40.000000\n",
       "50%       37.000000      10.000000      0.000000      0.000000       40.000000\n",
       "75%       48.000000      12.000000      0.000000      0.000000       45.000000\n",
       "max       90.000000      16.000000  99999.000000   4356.000000       99.000000"
      ]
     },
     "execution_count": 16,
     "metadata": {},
     "output_type": "execute_result"
    }
   ],
   "source": [
    "df.describe()"
   ]
  },
  {
   "cell_type": "code",
   "execution_count": 17,
   "id": "eb1bf71b-531e-4f06-98b0-7fdb2008a0e1",
   "metadata": {},
   "outputs": [
    {
     "name": "stdout",
     "output_type": "stream",
     "text": [
      "+-------+------------------+-----------------+\n",
      "|summary|               age|    education-num|\n",
      "+-------+------------------+-----------------+\n",
      "|  count|             32561|            32561|\n",
      "|   mean| 38.58164675532078| 10.0806793403151|\n",
      "| stddev|13.640432553581356|2.572720332067397|\n",
      "|    min|                17|                1|\n",
      "|    max|                90|               16|\n",
      "+-------+------------------+-----------------+\n",
      "\n"
     ]
    }
   ],
   "source": [
    "adultDF.select(['age','education-num']).describe().show()"
   ]
  },
  {
   "cell_type": "code",
   "execution_count": 18,
   "id": "ce0929c8-4a7e-481e-9775-48ec1eb8bc6b",
   "metadata": {},
   "outputs": [],
   "source": [
    "adultDF.write.saveAsTable(\"adult\")"
   ]
  },
  {
   "cell_type": "code",
   "execution_count": 19,
   "id": "e6f4b5b7-9fec-4a28-8660-31ae0c36103d",
   "metadata": {},
   "outputs": [],
   "source": [
    "new = spark.sql(\"select age, sex, education from adult where age > 50\")"
   ]
  },
  {
   "cell_type": "code",
   "execution_count": 20,
   "id": "bfb64c5e-1303-4eb2-9f90-c9acf56f1975",
   "metadata": {},
   "outputs": [
    {
     "name": "stdout",
     "output_type": "stream",
     "text": [
      "+---+------+------------+\n",
      "|age|   sex|   education|\n",
      "+---+------+------------+\n",
      "| 53|  Male|        11th|\n",
      "| 52|  Male|     HS-grad|\n",
      "| 54|Female|     HS-grad|\n",
      "| 59|Female|     HS-grad|\n",
      "| 56|  Male|   Bachelors|\n",
      "| 54|  Male|Some-college|\n",
      "| 53|  Male|   Bachelors|\n",
      "| 57|  Male|   Bachelors|\n",
      "| 53|  Male|     HS-grad|\n",
      "| 53|Female|     HS-grad|\n",
      "+---+------+------------+\n",
      "only showing top 10 rows\n",
      "\n"
     ]
    }
   ],
   "source": [
    "new.show(10)"
   ]
  },
  {
   "cell_type": "code",
   "execution_count": null,
   "id": "fe596333-72e8-46e2-a1a1-43268179265c",
   "metadata": {},
   "outputs": [],
   "source": []
  }
 ],
 "metadata": {
  "kernelspec": {
   "display_name": "Python 3",
   "language": "python",
   "name": "python3"
  },
  "language_info": {
   "codemirror_mode": {
    "name": "ipython",
    "version": 3
   },
   "file_extension": ".py",
   "mimetype": "text/x-python",
   "name": "python",
   "nbconvert_exporter": "python",
   "pygments_lexer": "ipython3",
   "version": "3.10.9 (main, Dec 15 2022, 17:11:09) [Clang 14.0.0 (clang-1400.0.29.202)]"
  },
  "vscode": {
   "interpreter": {
    "hash": "b0fa6594d8f4cbf19f97940f81e996739fb7646882a419484c72d19e05852a7e"
   }
  }
 },
 "nbformat": 4,
 "nbformat_minor": 5
}
