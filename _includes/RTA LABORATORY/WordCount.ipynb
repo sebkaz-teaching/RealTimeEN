{
 "cells": [
  {
   "cell_type": "code",
   "execution_count": 1,
   "id": "47d6bd25-d3a2-42a5-ba73-d541d5a3f9db",
   "metadata": {},
   "outputs": [],
   "source": [
    "from pyspark.sql import SparkSession\n",
    "import pyspark.sql.functions as F\n",
    "import pyspark.sql.types as T"
   ]
  },
  {
   "cell_type": "code",
   "execution_count": 2,
   "id": "b8c29dcf-28d1-4683-9fd1-0f6e522685c5",
   "metadata": {},
   "outputs": [],
   "source": [
    "spark = SparkSession.builder.appName(\"WordCount\").getOrCreate()"
   ]
  },
  {
   "cell_type": "code",
   "execution_count": 3,
   "id": "fd93f6da-8200-441c-9374-2f828ba4b216",
   "metadata": {},
   "outputs": [],
   "source": [
    "sc = spark.sparkContext"
   ]
  },
  {
   "cell_type": "code",
   "execution_count": 8,
   "id": "b5d6efd6-dca6-40e4-ac93-846295eb1540",
   "metadata": {},
   "outputs": [],
   "source": [
    "lines = sc.textFile(\"RDD_input\")"
   ]
  },
  {
   "cell_type": "code",
   "execution_count": 13,
   "id": "68b0d595-8df1-4b08-9195-8778527d8297",
   "metadata": {},
   "outputs": [],
   "source": [
    "# simple fitering \n",
    "sp = lines.filter(lambda x: \"is\" in x)"
   ]
  },
  {
   "cell_type": "code",
   "execution_count": 14,
   "id": "c95850ac-da50-432a-9bef-385023aadbcd",
   "metadata": {},
   "outputs": [
    {
     "data": {
      "text/plain": [
       "PythonRDD[8] at RDD at PythonRDD.scala:53"
      ]
     },
     "execution_count": 14,
     "metadata": {},
     "output_type": "execute_result"
    }
   ],
   "source": [
    "sp.cache()"
   ]
  },
  {
   "cell_type": "code",
   "execution_count": 15,
   "id": "8259597c-57ff-465c-a6e1-4fdd61442875",
   "metadata": {},
   "outputs": [
    {
     "name": "stdout",
     "output_type": "stream",
     "text": [
      "CPU times: user 2 µs, sys: 0 ns, total: 2 µs\n",
      "Wall time: 4.77 µs\n"
     ]
    },
    {
     "data": {
      "text/plain": [
       "12"
      ]
     },
     "execution_count": 15,
     "metadata": {},
     "output_type": "execute_result"
    }
   ],
   "source": [
    "%time\n",
    "sp.count()"
   ]
  },
  {
   "cell_type": "code",
   "execution_count": 11,
   "id": "36c22c7e-1e86-4715-9809-6cf5061652ee",
   "metadata": {},
   "outputs": [],
   "source": [
    "count = lines.flatMap(lambda x: x.split(\" \"))\\\n",
    ".map(lambda x: (x,1))\\\n",
    ".reduceByKey(lambda x, y: x+y)     "
   ]
  },
  {
   "cell_type": "code",
   "execution_count": 12,
   "id": "cf9fc9c3-f1d6-456f-b9d2-57dc8b12e268",
   "metadata": {},
   "outputs": [
    {
     "data": {
      "text/plain": [
       "[('Spark', 1),\n",
       " ('is', 12),\n",
       " ('engine', 1),\n",
       " ('compatible', 1),\n",
       " ('data.', 1),\n",
       " ('', 6),\n",
       " ('It', 2),\n",
       " ('run', 1),\n",
       " ('in', 2),\n",
       " ('clusters', 1),\n",
       " (\"Spark's\", 1),\n",
       " ('process', 1),\n",
       " ('HBase,', 1),\n",
       " ('Cassandra,', 1),\n",
       " ('Hive,', 1),\n",
       " ('InputFormat.', 1),\n",
       " ('designed', 1),\n",
       " ('perform', 1),\n",
       " ('both', 1),\n",
       " ('(similar', 1),\n",
       " ('MapReduce)', 1),\n",
       " ('new', 1),\n",
       " ('like', 1),\n",
       " ('streaming,', 1),\n",
       " ('queries,', 1),\n",
       " ('machine', 1),\n",
       " ('learning.', 1),\n",
       " ('Beautiful', 1),\n",
       " ('than', 8),\n",
       " ('implicit.', 1),\n",
       " ('Special', 1),\n",
       " ('cases', 1),\n",
       " (\"aren't\", 1),\n",
       " ('never', 2),\n",
       " ('pass', 1),\n",
       " ('silently.', 1),\n",
       " ('explicitly', 1),\n",
       " ('of', 2),\n",
       " ('refuse', 1),\n",
       " ('temptation', 1),\n",
       " ('guess.', 1),\n",
       " ('only', 1),\n",
       " ('way', 2),\n",
       " ('do', 2),\n",
       " ('it.', 1),\n",
       " ('may', 2),\n",
       " ('at', 1),\n",
       " (\"you're\", 1),\n",
       " ('Dutch.', 1),\n",
       " ('Now', 1),\n",
       " ('never.', 1),\n",
       " ('*right*', 1),\n",
       " ('now.', 1),\n",
       " ('explain,', 2),\n",
       " ('idea.', 2),\n",
       " ('good', 1),\n",
       " ('Namespaces', 1),\n",
       " ('are', 1),\n",
       " ('honking', 1),\n",
       " ('idea', 1),\n",
       " (\"let's\", 1),\n",
       " ('more', 1),\n",
       " ('those!', 1),\n",
       " ('a', 3),\n",
       " ('fast', 1),\n",
       " ('and', 6),\n",
       " ('general', 1),\n",
       " ('processing', 2),\n",
       " ('with', 1),\n",
       " ('Hadoop', 3),\n",
       " ('can', 2),\n",
       " ('through', 1),\n",
       " ('YARN', 1),\n",
       " ('or', 1),\n",
       " ('standalone', 1),\n",
       " ('mode,', 1),\n",
       " ('it', 2),\n",
       " ('data', 1),\n",
       " ('HDFS,', 1),\n",
       " ('any', 1),\n",
       " ('to', 7),\n",
       " ('batch', 1),\n",
       " ('workloads', 1),\n",
       " ('interactive', 1),\n",
       " ('better', 8),\n",
       " ('ugly.', 1),\n",
       " ('Explicit', 1),\n",
       " ('Simple', 1),\n",
       " ('complex.', 1),\n",
       " ('Complex', 1),\n",
       " ('complicated.', 1),\n",
       " ('Flat', 1),\n",
       " ('nested.', 1),\n",
       " ('Sparse', 1),\n",
       " ('dense.', 1),\n",
       " ('Readability', 1),\n",
       " ('counts.', 1),\n",
       " ('special', 1),\n",
       " ('enough', 1),\n",
       " ('break', 1),\n",
       " ('the', 5),\n",
       " ('rules.', 1),\n",
       " ('Although', 3),\n",
       " ('practicality', 1),\n",
       " ('beats', 1),\n",
       " ('purity.', 1),\n",
       " ('Errors', 1),\n",
       " ('should', 2),\n",
       " ('Unless', 1),\n",
       " ('silenced.', 1),\n",
       " ('In', 1),\n",
       " ('face', 1),\n",
       " ('ambiguity,', 1),\n",
       " ('There', 1),\n",
       " ('be', 3),\n",
       " ('one--', 1),\n",
       " ('preferably', 1),\n",
       " ('one', 2),\n",
       " ('--obvious', 1),\n",
       " ('that', 1),\n",
       " ('not', 1),\n",
       " ('obvious', 1),\n",
       " ('first', 1),\n",
       " ('unless', 1),\n",
       " ('often', 1),\n",
       " ('If', 2),\n",
       " ('implementation', 2),\n",
       " ('hard', 1),\n",
       " (\"it's\", 1),\n",
       " ('bad', 1),\n",
       " ('easy', 1),\n",
       " ('great', 1),\n",
       " ('--', 1)]"
      ]
     },
     "execution_count": 12,
     "metadata": {},
     "output_type": "execute_result"
    }
   ],
   "source": [
    "count.collect()"
   ]
  },
  {
   "cell_type": "code",
   "execution_count": null,
   "id": "8e8bcd13-76c2-4021-9056-c9cc1879ac29",
   "metadata": {},
   "outputs": [],
   "source": []
  }
 ],
 "metadata": {
  "kernelspec": {
   "display_name": "Python 3 (ipykernel)",
   "language": "python",
   "name": "python3"
  },
  "language_info": {
   "codemirror_mode": {
    "name": "ipython",
    "version": 3
   },
   "file_extension": ".py",
   "mimetype": "text/x-python",
   "name": "python",
   "nbconvert_exporter": "python",
   "pygments_lexer": "ipython3",
   "version": "3.10.8"
  }
 },
 "nbformat": 4,
 "nbformat_minor": 5
}
