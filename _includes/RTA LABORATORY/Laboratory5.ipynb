{
 "cells": [
  {
   "cell_type": "code",
   "execution_count": 1,
   "id": "84dfca54-15d8-424d-9f7d-bb72e2ac283e",
   "metadata": {},
   "outputs": [],
   "source": [
    "import numpy as np\n",
    "import pandas as pd"
   ]
  },
  {
   "cell_type": "code",
   "execution_count": null,
   "id": "68d9c4b8-e68d-41f6-a301-d4a8d3d40e5b",
   "metadata": {},
   "outputs": [],
   "source": [
    "# how AND logic gate work "
   ]
  },
  {
   "cell_type": "code",
   "execution_count": 2,
   "id": "5a77b028-592c-42c3-a874-7b021056dbf7",
   "metadata": {},
   "outputs": [
    {
     "ename": "NameError",
     "evalue": "name 'Perceptron' is not defined",
     "output_type": "error",
     "traceback": [
      "\u001b[0;31m---------------------------------------------------------------------------\u001b[0m",
      "\u001b[0;31mNameError\u001b[0m                                 Traceback (most recent call last)",
      "Cell \u001b[0;32mIn [2], line 1\u001b[0m\n\u001b[0;32m----> 1\u001b[0m child \u001b[38;5;241m=\u001b[39m \u001b[43mPerceptron\u001b[49m()\n\u001b[1;32m      2\u001b[0m child\u001b[38;5;241m.\u001b[39mfit(X,y)\n\u001b[1;32m      4\u001b[0m \u001b[38;5;28mprint\u001b[39m(child\u001b[38;5;241m.\u001b[39merrors_)\n",
      "\u001b[0;31mNameError\u001b[0m: name 'Perceptron' is not defined"
     ]
    }
   ],
   "source": [
    "child = Perceptron()\n",
    "child.fit(X,y)\n",
    "\n",
    "print(child.errors_)\n",
    "print(child.w_)\n",
    "\n",
    "child.predict(np.array([0,1]))\n",
    "\n",
    "child.predict(np.array([0,0],[0,2],[3,4]))"
   ]
  },
  {
   "cell_type": "code",
   "execution_count": 3,
   "id": "351f91c5-a06c-4af3-a657-0482fbcb61ea",
   "metadata": {},
   "outputs": [],
   "source": [
    "class Perceptron(object):\n",
    "    \n",
    "    def __init__(self, eta=0.01, n_iter=10):\n",
    "        self.eta = eta\n",
    "        self.n_iter = n_iter\n",
    "    \n",
    "    def fit(self, X, y):\n",
    "        self.w_ = np.zeros(1+X.shape[1])\n",
    "        self.errors_ = []\n",
    "        \n",
    "        for _ in range(self.n_iter):\n",
    "            errors = 0\n",
    "            for xi, target in zip(X,y):\n",
    "                \n",
    "                update = self.eta*(target - self.predict(xi))\n",
    "                print(update)\n",
    "                self.w_[1:] += update*xi\n",
    "                self.w_[0] += update\n",
    "                print(self.w_[1:], self.w_[0])\n",
    "                \n",
    "                errors += int(update != 0.0)\n",
    "                \n",
    "            self.errors_.append(errors)\n",
    "            print(self.errors_)\n",
    "        return self\n",
    "    \n",
    "    def net_input(self, X):\n",
    "        return np.dot(X, self.w_[1:]) + self.w_[0]\n",
    "    \n",
    "    def predict(self, X):\n",
    "        return np.where(self.net_input(X) >= 0.0, 1, -1)"
   ]
  },
  {
   "cell_type": "code",
   "execution_count": 4,
   "id": "13c8b68a-5a63-4f55-9a28-0ac35ef9610d",
   "metadata": {},
   "outputs": [],
   "source": [
    "a = Perceptron()"
   ]
  },
  {
   "cell_type": "code",
   "execution_count": 5,
   "id": "f787bbae-db0e-4722-b191-11f1a4949cef",
   "metadata": {},
   "outputs": [
    {
     "name": "stdout",
     "output_type": "stream",
     "text": [
      "-0.02\n",
      "[0. 0.] -0.02\n",
      "0.0\n",
      "[0. 0.] -0.02\n",
      "0.0\n",
      "[0. 0.] -0.02\n",
      "0.02\n",
      "[0.02 0.02] 0.0\n",
      "[2]\n",
      "-0.02\n",
      "[0.02 0.02] -0.02\n",
      "-0.02\n",
      "[0.02 0.  ] -0.04\n",
      "0.0\n",
      "[0.02 0.  ] -0.04\n",
      "0.02\n",
      "[0.04 0.02] -0.02\n",
      "[2, 3]\n",
      "0.0\n",
      "[0.04 0.02] -0.02\n",
      "-0.02\n",
      "[0.04 0.  ] -0.04\n",
      "-0.02\n",
      "[0.02 0.  ] -0.06\n",
      "0.02\n",
      "[0.04 0.02] -0.039999999999999994\n",
      "[2, 3, 3]\n",
      "0.0\n",
      "[0.04 0.02] -0.039999999999999994\n",
      "0.0\n",
      "[0.04 0.02] -0.039999999999999994\n",
      "-0.02\n",
      "[0.02 0.02] -0.06\n",
      "0.02\n",
      "[0.04 0.04] -0.039999999999999994\n",
      "[2, 3, 3, 2]\n",
      "0.0\n",
      "[0.04 0.04] -0.039999999999999994\n",
      "-0.02\n",
      "[0.04 0.02] -0.06\n",
      "0.0\n",
      "[0.04 0.02] -0.06\n",
      "0.0\n",
      "[0.04 0.02] -0.06\n",
      "[2, 3, 3, 2, 1]\n",
      "0.0\n",
      "[0.04 0.02] -0.06\n",
      "0.0\n",
      "[0.04 0.02] -0.06\n",
      "0.0\n",
      "[0.04 0.02] -0.06\n",
      "0.0\n",
      "[0.04 0.02] -0.06\n",
      "[2, 3, 3, 2, 1, 0]\n",
      "0.0\n",
      "[0.04 0.02] -0.06\n",
      "0.0\n",
      "[0.04 0.02] -0.06\n",
      "0.0\n",
      "[0.04 0.02] -0.06\n",
      "0.0\n",
      "[0.04 0.02] -0.06\n",
      "[2, 3, 3, 2, 1, 0, 0]\n",
      "0.0\n",
      "[0.04 0.02] -0.06\n",
      "0.0\n",
      "[0.04 0.02] -0.06\n",
      "0.0\n",
      "[0.04 0.02] -0.06\n",
      "0.0\n",
      "[0.04 0.02] -0.06\n",
      "[2, 3, 3, 2, 1, 0, 0, 0]\n",
      "0.0\n",
      "[0.04 0.02] -0.06\n",
      "0.0\n",
      "[0.04 0.02] -0.06\n",
      "0.0\n",
      "[0.04 0.02] -0.06\n",
      "0.0\n",
      "[0.04 0.02] -0.06\n",
      "[2, 3, 3, 2, 1, 0, 0, 0, 0]\n",
      "0.0\n",
      "[0.04 0.02] -0.06\n",
      "0.0\n",
      "[0.04 0.02] -0.06\n",
      "0.0\n",
      "[0.04 0.02] -0.06\n",
      "0.0\n",
      "[0.04 0.02] -0.06\n",
      "[2, 3, 3, 2, 1, 0, 0, 0, 0, 0]\n"
     ]
    },
    {
     "data": {
      "text/plain": [
       "<__main__.Perceptron at 0xffff51226d40>"
      ]
     },
     "execution_count": 5,
     "metadata": {},
     "output_type": "execute_result"
    }
   ],
   "source": [
    "X = np.array([[0,0],[0,1],[1,0],[1,1]])\n",
    "y = [-1,-1,-1,1]\n",
    "\n",
    "\n",
    "a.fit(X,y)"
   ]
  },
  {
   "cell_type": "code",
   "execution_count": 6,
   "id": "4726b32f-9d40-4610-a738-33b879ae6108",
   "metadata": {},
   "outputs": [
    {
     "data": {
      "text/plain": [
       "['model.pkl']"
      ]
     },
     "execution_count": 6,
     "metadata": {},
     "output_type": "execute_result"
    }
   ],
   "source": [
    "import joblib\n",
    "\n",
    "joblib.dump(a, 'model.pkl')\n"
   ]
  },
  {
   "cell_type": "code",
   "execution_count": 7,
   "id": "9e61ddb5-50a3-4e84-ab88-61f3a2f7735e",
   "metadata": {},
   "outputs": [
    {
     "data": {
      "text/plain": [
       "array([-0.06,  0.04,  0.02])"
      ]
     },
     "execution_count": 7,
     "metadata": {},
     "output_type": "execute_result"
    }
   ],
   "source": [
    "a.w_"
   ]
  },
  {
   "cell_type": "code",
   "execution_count": 8,
   "id": "12ca2f9b-d8ef-462b-9235-fb461687f549",
   "metadata": {},
   "outputs": [],
   "source": [
    "class Adaline():\n",
    "    '''Klasyfikator  - ADAptacyjny LIniowy NEuron'''\n",
    "    def __init__(self, eta=0.01, n_iter=10):\n",
    "        self.eta = eta\n",
    "        self.n_iter = n_iter\n",
    "\n",
    "    def fit(self, X,y):\n",
    "        self.w_ = np.zeros(1+X.shape[1])\n",
    "        self.cost_ = []\n",
    "\n",
    "        for i in range(self.n_iter):\n",
    "            net_input = self.net_input(X)\n",
    "            output = self.activation(X)\n",
    "            errors = (y-output)\n",
    "            self.w_[1:] += self.eta * X.T.dot(errors)\n",
    "            self.w_[0] += self.eta * errors.sum()\n",
    "            cost = (errors**2).sum() / 2.0\n",
    "            self.cost_.append(cost)\n",
    "        return self\n",
    "\n",
    "    def net_input(self, X):\n",
    "        return np.dot(X, self.w_[1:]) + self.w_[0]\n",
    "\n",
    "    def activation(self, X):\n",
    "        return self.net_input(X)\n",
    "\n",
    "    def predict(self, X):\n",
    "        return np.where(self.activation(X) >= 0.0, 1, -1) "
   ]
  },
  {
   "cell_type": "code",
   "execution_count": 9,
   "id": "09371944-2f91-4a50-ba23-8eb586ce9468",
   "metadata": {},
   "outputs": [
    {
     "data": {
      "text/plain": [
       "<__main__.Adaline at 0xffff50967010>"
      ]
     },
     "execution_count": 9,
     "metadata": {},
     "output_type": "execute_result"
    }
   ],
   "source": [
    "ada = Adaline()\n",
    "ada.fit(X,y)"
   ]
  },
  {
   "cell_type": "code",
   "execution_count": 10,
   "id": "6800c814-cf74-40b9-922b-82693d1b4933",
   "metadata": {},
   "outputs": [
    {
     "data": {
      "text/plain": [
       "array([-0.16916789,  0.01499055,  0.01499055])"
      ]
     },
     "execution_count": 10,
     "metadata": {},
     "output_type": "execute_result"
    }
   ],
   "source": [
    "ada.w_"
   ]
  },
  {
   "cell_type": "code",
   "execution_count": null,
   "id": "906b9112-6d87-4981-966f-9188cfe8e135",
   "metadata": {},
   "outputs": [],
   "source": [
    "!pip install flask"
   ]
  },
  {
   "cell_type": "code",
   "execution_count": null,
   "id": "dcfdd538-bea3-47f3-a947-8c1bda88a6ea",
   "metadata": {},
   "outputs": [],
   "source": [
    "from flask import Flask\n",
    "from flask import request\n",
    "from flask import jsonify\n",
    "\n",
    "app = Flask(__name__)\n",
    "\n",
    "@app.route('/')\n",
    "def hello():\n",
    "    return \"<b>hello world</b>\"\n",
    "\n",
    "if __name__ == '__main__':\n",
    "    app.run()"
   ]
  },
  {
   "cell_type": "code",
   "execution_count": null,
   "id": "8d053f17-51e5-4fca-b69e-8fe9f92af162",
   "metadata": {},
   "outputs": [],
   "source": []
  },
  {
   "cell_type": "code",
   "execution_count": null,
   "id": "b554e94b-5e5b-4174-8ffa-9642b34bb0c6",
   "metadata": {},
   "outputs": [],
   "source": []
  },
  {
   "cell_type": "code",
   "execution_count": null,
   "id": "8b162dd5-fc6d-4e1b-bde6-3cd48d4cd5b1",
   "metadata": {},
   "outputs": [],
   "source": []
  }
 ],
 "metadata": {
  "kernelspec": {
   "display_name": "Python 3 (ipykernel)",
   "language": "python",
   "name": "python3"
  },
  "language_info": {
   "codemirror_mode": {
    "name": "ipython",
    "version": 3
   },
   "file_extension": ".py",
   "mimetype": "text/x-python",
   "name": "python",
   "nbconvert_exporter": "python",
   "pygments_lexer": "ipython3",
   "version": "3.10.8"
  }
 },
 "nbformat": 4,
 "nbformat_minor": 5
}
