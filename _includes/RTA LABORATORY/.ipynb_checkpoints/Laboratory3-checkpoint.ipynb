{
 "cells": [
  {
   "cell_type": "code",
   "execution_count": null,
   "id": "17fba65e-b9b8-4f80-aaea-a3f629a690e1",
   "metadata": {},
   "outputs": [],
   "source": [
    "import re\n",
    "from pyspark.sql import SparkSession"
   ]
  },
  {
   "cell_type": "code",
   "execution_count": null,
   "id": "f6762cf1-e965-4bed-9237-9beb5c61481e",
   "metadata": {},
   "outputs": [],
   "source": [
    "spark = SparkSession.builder.getOrCreate()"
   ]
  },
  {
   "cell_type": "code",
   "execution_count": null,
   "id": "f5a8adca-e3de-4d2d-9536-4f039ea963b2",
   "metadata": {},
   "outputs": [],
   "source": [
    "sc = spark.sparkContext"
   ]
  },
  {
   "cell_type": "code",
   "execution_count": null,
   "id": "94ae44fe-8703-458e-b2af-5ce9dd579ed5",
   "metadata": {},
   "outputs": [],
   "source": [
    "sc.textFile(\"RDD_input\")\\\n",
    ".map(lambda x: re.findall(r\"[a-z']+\", x.lower()))\\\n",
    ".flatMap(lambda x: [(y, 1) for y in x])\\\n",
    ".reduceByKey(lambda x, y: x+y)\\\n",
    ".collect()"
   ]
  },
  {
   "cell_type": "code",
   "execution_count": null,
   "id": "d41b8d3a-56d5-46f7-946b-69aa303651f2",
   "metadata": {},
   "outputs": [],
   "source": [
    "import re \n",
    "from pyspark import SparkContext\n",
    "from pyspark.streaming import StreamingContext"
   ]
  },
  {
   "cell_type": "code",
   "execution_count": null,
   "id": "f649d5bd-dcd2-4276-a263-81b9a50511e4",
   "metadata": {},
   "outputs": [],
   "source": [
    "sc = SparkContext(\"local[2]\", \"StreamWordCount\")\n",
    "ssc = StreamingContext(sc, 3) "
   ]
  },
  {
   "cell_type": "code",
   "execution_count": null,
   "id": "7c189ba5-5ce3-418b-9365-95602dacdbe7",
   "metadata": {},
   "outputs": [],
   "source": [
    "lines = ssc.socketTextStream(\"localhost\", 9998)"
   ]
  },
  {
   "cell_type": "code",
   "execution_count": null,
   "id": "6070a962-bb41-4817-9d16-7efe3c59de58",
   "metadata": {},
   "outputs": [],
   "source": [
    "words = lines.flatMap(lambda x: re.findall(r\"[a-z']+\", x.lower()))\n",
    "wordCounts = words.map(lambda word: (word,1)).reduceByKey(lambda x,y: x+y)\n",
    "\n",
    "wordCounts.pprint()"
   ]
  },
  {
   "cell_type": "code",
   "execution_count": null,
   "id": "23932aee-35df-4d87-8eaa-4df950a49f1c",
   "metadata": {},
   "outputs": [],
   "source": [
    "ssc.start()             # Start the computation\n",
    "ssc.awaitTermination()  # Wait for the computation to terminate\n",
    "ssc.stop(True,True)"
   ]
  },
  {
   "cell_type": "code",
   "execution_count": null,
   "id": "b034231f-065f-4eac-b579-4f7d86cf291b",
   "metadata": {},
   "outputs": [],
   "source": []
  }
 ],
 "metadata": {
  "kernelspec": {
   "display_name": "Python 3 (ipykernel)",
   "language": "python",
   "name": "python3"
  },
  "language_info": {
   "codemirror_mode": {
    "name": "ipython",
    "version": 3
   },
   "file_extension": ".py",
   "mimetype": "text/x-python",
   "name": "python",
   "nbconvert_exporter": "python",
   "pygments_lexer": "ipython3",
   "version": "3.10.8"
  }
 },
 "nbformat": 4,
 "nbformat_minor": 5
}
