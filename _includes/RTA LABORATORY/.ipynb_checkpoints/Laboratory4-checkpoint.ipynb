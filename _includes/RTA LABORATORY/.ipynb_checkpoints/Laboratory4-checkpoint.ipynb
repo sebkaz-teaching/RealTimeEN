{
 "cells": [
  {
   "cell_type": "markdown",
   "id": "24043607-96e7-421d-97cc-144004ae08f8",
   "metadata": {},
   "source": [
    "# Batch processing - \n",
    "\n",
    "simple example in Spark DataFrame"
   ]
  },
  {
   "cell_type": "code",
   "execution_count": 1,
   "id": "f2ecce5d",
   "metadata": {},
   "outputs": [],
   "source": [
    "from pyspark.sql import SparkSession\n",
    "\n",
    "spark = SparkSession.builder\\\n",
    "        .appName(\"testowanie\")\\\n",
    "        .getOrCreate()"
   ]
  },
  {
   "cell_type": "code",
   "execution_count": 2,
   "id": "a2da7aa2",
   "metadata": {},
   "outputs": [],
   "source": [
    "df = spark.read\\\n",
    "     .option('header','True')\\\n",
    "     .option('inferSchema','True')\\\n",
    "     .option('sep',',')\\\n",
    "     .csv(\"diabetes.csv\")"
   ]
  },
  {
   "cell_type": "code",
   "execution_count": 3,
   "id": "0f5c0669-ac8b-4570-9ca8-8c8ec8b3c752",
   "metadata": {},
   "outputs": [],
   "source": [
    "df.write.format('parquet')\\\n",
    ".mode(\"overwrite\")\\\n",
    ".option(\"compression\", \"snappy\")\\\n",
    ".save(\"diab_parquet\")"
   ]
  },
  {
   "cell_type": "code",
   "execution_count": 4,
   "id": "589a33dd",
   "metadata": {},
   "outputs": [
    {
     "data": {
      "text/plain": [
       "['Pregnancies',\n",
       " 'Glucose',\n",
       " 'BloodPressure',\n",
       " 'SkinThickness',\n",
       " 'Insulin',\n",
       " 'BMI',\n",
       " 'DiabetesPedigreeFunction',\n",
       " 'Age',\n",
       " 'Outcome']"
      ]
     },
     "execution_count": 4,
     "metadata": {},
     "output_type": "execute_result"
    }
   ],
   "source": [
    "df.columns"
   ]
  },
  {
   "cell_type": "code",
   "execution_count": 5,
   "id": "e9888171",
   "metadata": {},
   "outputs": [
    {
     "data": {
      "text/plain": [
       "768"
      ]
     },
     "execution_count": 5,
     "metadata": {},
     "output_type": "execute_result"
    }
   ],
   "source": [
    "df.count()"
   ]
  },
  {
   "cell_type": "code",
   "execution_count": 6,
   "id": "8383eacf",
   "metadata": {},
   "outputs": [
    {
     "data": {
      "text/plain": [
       "StructType([StructField('Pregnancies', IntegerType(), True), StructField('Glucose', IntegerType(), True), StructField('BloodPressure', IntegerType(), True), StructField('SkinThickness', IntegerType(), True), StructField('Insulin', IntegerType(), True), StructField('BMI', DoubleType(), True), StructField('DiabetesPedigreeFunction', DoubleType(), True), StructField('Age', IntegerType(), True), StructField('Outcome', IntegerType(), True)])"
      ]
     },
     "execution_count": 6,
     "metadata": {},
     "output_type": "execute_result"
    }
   ],
   "source": [
    "df.schema"
   ]
  },
  {
   "cell_type": "code",
   "execution_count": 7,
   "id": "9810a299",
   "metadata": {},
   "outputs": [
    {
     "name": "stdout",
     "output_type": "stream",
     "text": [
      "+-----------+-------+-------------+-------------+-------+----+------------------------+---+-------+\n",
      "|Pregnancies|Glucose|BloodPressure|SkinThickness|Insulin| BMI|DiabetesPedigreeFunction|Age|Outcome|\n",
      "+-----------+-------+-------------+-------------+-------+----+------------------------+---+-------+\n",
      "|          6|    148|           72|           35|      0|33.6|                   0.627| 50|      1|\n",
      "|          1|     85|           66|           29|      0|26.6|                   0.351| 31|      0|\n",
      "|          8|    183|           64|            0|      0|23.3|                   0.672| 32|      1|\n",
      "|          1|     89|           66|           23|     94|28.1|                   0.167| 21|      0|\n",
      "|          0|    137|           40|           35|    168|43.1|                   2.288| 33|      1|\n",
      "+-----------+-------+-------------+-------------+-------+----+------------------------+---+-------+\n",
      "only showing top 5 rows\n",
      "\n"
     ]
    }
   ],
   "source": [
    "df.show(5)"
   ]
  },
  {
   "cell_type": "code",
   "execution_count": 8,
   "id": "97b8e364",
   "metadata": {},
   "outputs": [
    {
     "name": "stdout",
     "output_type": "stream",
     "text": [
      "root\n",
      " |-- Pregnancies: integer (nullable = true)\n",
      " |-- Glucose: integer (nullable = true)\n",
      " |-- BloodPressure: integer (nullable = true)\n",
      " |-- SkinThickness: integer (nullable = true)\n",
      " |-- Insulin: integer (nullable = true)\n",
      " |-- BMI: double (nullable = true)\n",
      " |-- DiabetesPedigreeFunction: double (nullable = true)\n",
      " |-- Age: integer (nullable = true)\n",
      " |-- Outcome: integer (nullable = true)\n",
      "\n"
     ]
    }
   ],
   "source": [
    "df.printSchema()"
   ]
  },
  {
   "cell_type": "code",
   "execution_count": 9,
   "id": "c892e2f9",
   "metadata": {},
   "outputs": [
    {
     "data": {
      "text/html": [
       "<div>\n",
       "<style scoped>\n",
       "    .dataframe tbody tr th:only-of-type {\n",
       "        vertical-align: middle;\n",
       "    }\n",
       "\n",
       "    .dataframe tbody tr th {\n",
       "        vertical-align: top;\n",
       "    }\n",
       "\n",
       "    .dataframe thead th {\n",
       "        text-align: right;\n",
       "    }\n",
       "</style>\n",
       "<table border=\"1\" class=\"dataframe\">\n",
       "  <thead>\n",
       "    <tr style=\"text-align: right;\">\n",
       "      <th></th>\n",
       "      <th>0</th>\n",
       "      <th>1</th>\n",
       "      <th>2</th>\n",
       "      <th>3</th>\n",
       "      <th>4</th>\n",
       "    </tr>\n",
       "  </thead>\n",
       "  <tbody>\n",
       "    <tr>\n",
       "      <th>summary</th>\n",
       "      <td>count</td>\n",
       "      <td>mean</td>\n",
       "      <td>stddev</td>\n",
       "      <td>min</td>\n",
       "      <td>max</td>\n",
       "    </tr>\n",
       "    <tr>\n",
       "      <th>Pregnancies</th>\n",
       "      <td>768</td>\n",
       "      <td>3.8450520833333335</td>\n",
       "      <td>3.36957806269887</td>\n",
       "      <td>0</td>\n",
       "      <td>17</td>\n",
       "    </tr>\n",
       "    <tr>\n",
       "      <th>Glucose</th>\n",
       "      <td>768</td>\n",
       "      <td>120.89453125</td>\n",
       "      <td>31.97261819513622</td>\n",
       "      <td>0</td>\n",
       "      <td>199</td>\n",
       "    </tr>\n",
       "    <tr>\n",
       "      <th>BloodPressure</th>\n",
       "      <td>768</td>\n",
       "      <td>69.10546875</td>\n",
       "      <td>19.355807170644777</td>\n",
       "      <td>0</td>\n",
       "      <td>122</td>\n",
       "    </tr>\n",
       "    <tr>\n",
       "      <th>SkinThickness</th>\n",
       "      <td>768</td>\n",
       "      <td>20.536458333333332</td>\n",
       "      <td>15.952217567727642</td>\n",
       "      <td>0</td>\n",
       "      <td>99</td>\n",
       "    </tr>\n",
       "    <tr>\n",
       "      <th>Insulin</th>\n",
       "      <td>768</td>\n",
       "      <td>79.79947916666667</td>\n",
       "      <td>115.24400235133803</td>\n",
       "      <td>0</td>\n",
       "      <td>846</td>\n",
       "    </tr>\n",
       "    <tr>\n",
       "      <th>Age</th>\n",
       "      <td>768</td>\n",
       "      <td>33.240885416666664</td>\n",
       "      <td>11.760231540678689</td>\n",
       "      <td>21</td>\n",
       "      <td>81</td>\n",
       "    </tr>\n",
       "    <tr>\n",
       "      <th>Outcome</th>\n",
       "      <td>768</td>\n",
       "      <td>0.3489583333333333</td>\n",
       "      <td>0.476951377242799</td>\n",
       "      <td>0</td>\n",
       "      <td>1</td>\n",
       "    </tr>\n",
       "  </tbody>\n",
       "</table>\n",
       "</div>"
      ],
      "text/plain": [
       "                   0                   1                   2    3    4\n",
       "summary        count                mean              stddev  min  max\n",
       "Pregnancies      768  3.8450520833333335    3.36957806269887    0   17\n",
       "Glucose          768        120.89453125   31.97261819513622    0  199\n",
       "BloodPressure    768         69.10546875  19.355807170644777    0  122\n",
       "SkinThickness    768  20.536458333333332  15.952217567727642    0   99\n",
       "Insulin          768   79.79947916666667  115.24400235133803    0  846\n",
       "Age              768  33.240885416666664  11.760231540678689   21   81\n",
       "Outcome          768  0.3489583333333333   0.476951377242799    0    1"
      ]
     },
     "execution_count": 9,
     "metadata": {},
     "output_type": "execute_result"
    }
   ],
   "source": [
    "numeric_features = [t[0] for t in df.dtypes if t[1]== 'int']\n",
    "df.select(numeric_features).describe().toPandas().transpose()"
   ]
  },
  {
   "cell_type": "code",
   "execution_count": 10,
   "id": "57bcd29d",
   "metadata": {},
   "outputs": [
    {
     "name": "stdout",
     "output_type": "stream",
     "text": [
      "+-------+-----+\n",
      "|Outcome|count|\n",
      "+-------+-----+\n",
      "|      1|  268|\n",
      "|      0|  500|\n",
      "+-------+-----+\n",
      "\n"
     ]
    }
   ],
   "source": [
    "df.groupby(\"Outcome\").count().show()"
   ]
  },
  {
   "cell_type": "code",
   "execution_count": 11,
   "id": "36bc1507",
   "metadata": {},
   "outputs": [],
   "source": [
    "from pyspark.sql.functions import *"
   ]
  },
  {
   "cell_type": "code",
   "execution_count": 12,
   "id": "ebdbaa3f",
   "metadata": {},
   "outputs": [
    {
     "data": {
      "text/html": [
       "<div>\n",
       "<style scoped>\n",
       "    .dataframe tbody tr th:only-of-type {\n",
       "        vertical-align: middle;\n",
       "    }\n",
       "\n",
       "    .dataframe tbody tr th {\n",
       "        vertical-align: top;\n",
       "    }\n",
       "\n",
       "    .dataframe thead th {\n",
       "        text-align: right;\n",
       "    }\n",
       "</style>\n",
       "<table border=\"1\" class=\"dataframe\">\n",
       "  <thead>\n",
       "    <tr style=\"text-align: right;\">\n",
       "      <th></th>\n",
       "      <th>Pregnancies</th>\n",
       "      <th>Glucose</th>\n",
       "      <th>BloodPressure</th>\n",
       "      <th>SkinThickness</th>\n",
       "      <th>Insulin</th>\n",
       "      <th>BMI</th>\n",
       "      <th>DiabetesPedigreeFunction</th>\n",
       "      <th>Age</th>\n",
       "      <th>Outcome</th>\n",
       "    </tr>\n",
       "  </thead>\n",
       "  <tbody>\n",
       "    <tr>\n",
       "      <th>0</th>\n",
       "      <td>0</td>\n",
       "      <td>0</td>\n",
       "      <td>0</td>\n",
       "      <td>0</td>\n",
       "      <td>0</td>\n",
       "      <td>0</td>\n",
       "      <td>0</td>\n",
       "      <td>0</td>\n",
       "      <td>0</td>\n",
       "    </tr>\n",
       "  </tbody>\n",
       "</table>\n",
       "</div>"
      ],
      "text/plain": [
       "   Pregnancies  Glucose  BloodPressure  SkinThickness  Insulin  BMI  \\\n",
       "0            0        0              0              0        0    0   \n",
       "\n",
       "   DiabetesPedigreeFunction  Age  Outcome  \n",
       "0                         0    0        0  "
      ]
     },
     "execution_count": 12,
     "metadata": {},
     "output_type": "execute_result"
    }
   ],
   "source": [
    "# sprawdz czy są braki danych \n",
    "df.select([count(when(isnan(c), c)).alias(c) for c in df.columns]).toPandas().head()"
   ]
  },
  {
   "cell_type": "code",
   "execution_count": 13,
   "id": "3bc08d35",
   "metadata": {},
   "outputs": [],
   "source": [
    "from pyspark.sql.functions import udf"
   ]
  },
  {
   "cell_type": "code",
   "execution_count": 14,
   "id": "82fe07ac",
   "metadata": {},
   "outputs": [],
   "source": [
    "y_udf = udf(lambda y: \"No\" if y==0 else \"Yes\", StringType()) "
   ]
  },
  {
   "cell_type": "code",
   "execution_count": 15,
   "id": "977f372b",
   "metadata": {},
   "outputs": [],
   "source": [
    "df = df.withColumn('HasDiab', y_udf('OutCome')).drop(\"OutCome\")"
   ]
  },
  {
   "cell_type": "code",
   "execution_count": 16,
   "id": "353c6b0f",
   "metadata": {},
   "outputs": [
    {
     "name": "stdout",
     "output_type": "stream",
     "text": [
      "-RECORD 0-------------------------\n",
      " Pregnancies              | 6     \n",
      " Glucose                  | 148   \n",
      " BloodPressure            | 72    \n",
      " SkinThickness            | 35    \n",
      " Insulin                  | 0     \n",
      " BMI                      | 33.6  \n",
      " DiabetesPedigreeFunction | 0.627 \n",
      " Age                      | 50    \n",
      " HasDiab                  | Yes   \n",
      "-RECORD 1-------------------------\n",
      " Pregnancies              | 1     \n",
      " Glucose                  | 85    \n",
      " BloodPressure            | 66    \n",
      " SkinThickness            | 29    \n",
      " Insulin                  | 0     \n",
      " BMI                      | 26.6  \n",
      " DiabetesPedigreeFunction | 0.351 \n",
      " Age                      | 31    \n",
      " HasDiab                  | No    \n",
      "only showing top 2 rows\n",
      "\n"
     ]
    }
   ],
   "source": [
    "df.show(2, vertical=True)"
   ]
  },
  {
   "cell_type": "code",
   "execution_count": 17,
   "id": "25bc49fc",
   "metadata": {},
   "outputs": [
    {
     "name": "stdout",
     "output_type": "stream",
     "text": [
      "root\n",
      " |-- Pregnancies: integer (nullable = true)\n",
      " |-- Glucose: integer (nullable = true)\n",
      " |-- BloodPressure: integer (nullable = true)\n",
      " |-- SkinThickness: integer (nullable = true)\n",
      " |-- Insulin: integer (nullable = true)\n",
      " |-- BMI: double (nullable = true)\n",
      " |-- DiabetesPedigreeFunction: double (nullable = true)\n",
      " |-- Age: integer (nullable = true)\n",
      " |-- HasDiab: string (nullable = true)\n",
      "\n"
     ]
    }
   ],
   "source": [
    "df.printSchema()"
   ]
  },
  {
   "cell_type": "code",
   "execution_count": 18,
   "id": "e02e794f",
   "metadata": {},
   "outputs": [],
   "source": [
    "# koszykowanie zmiennej wiek \n",
    "def udf_multiple(age):\n",
    "    if age <= 25:\n",
    "        return 'Under 25'\n",
    "    elif age >= 25 and age <= 35:\n",
    "        return 'Between 25 and 35'\n",
    "    elif age > 35 and age < 50:\n",
    "        return 'Between 36 and 49'\n",
    "    elif age >= 50:\n",
    "        return 'Over 50'\n",
    "    else: return 'N/A'"
   ]
  },
  {
   "cell_type": "code",
   "execution_count": 19,
   "id": "ff6acb53",
   "metadata": {},
   "outputs": [],
   "source": [
    "education_udf = udf(udf_multiple)"
   ]
  },
  {
   "cell_type": "code",
   "execution_count": 20,
   "id": "52ad62f4",
   "metadata": {},
   "outputs": [],
   "source": [
    "df=df.withColumn(\"Age_udf\", education_udf(\"Age\"))"
   ]
  },
  {
   "cell_type": "code",
   "execution_count": 21,
   "id": "1f2203a1",
   "metadata": {},
   "outputs": [
    {
     "name": "stdout",
     "output_type": "stream",
     "text": [
      "-RECORD 0-------------------------------------\n",
      " Pregnancies              | 6                 \n",
      " Glucose                  | 148               \n",
      " BloodPressure            | 72                \n",
      " SkinThickness            | 35                \n",
      " Insulin                  | 0                 \n",
      " BMI                      | 33.6              \n",
      " DiabetesPedigreeFunction | 0.627             \n",
      " Age                      | 50                \n",
      " HasDiab                  | Yes               \n",
      " Age_udf                  | Over 50           \n",
      "-RECORD 1-------------------------------------\n",
      " Pregnancies              | 1                 \n",
      " Glucose                  | 85                \n",
      " BloodPressure            | 66                \n",
      " SkinThickness            | 29                \n",
      " Insulin                  | 0                 \n",
      " BMI                      | 26.6              \n",
      " DiabetesPedigreeFunction | 0.351             \n",
      " Age                      | 31                \n",
      " HasDiab                  | No                \n",
      " Age_udf                  | Between 25 and 35 \n",
      "only showing top 2 rows\n",
      "\n"
     ]
    }
   ],
   "source": [
    "df.show(2, vertical=True)"
   ]
  },
  {
   "cell_type": "code",
   "execution_count": 22,
   "id": "f50d5ef6-b44c-44be-855c-8e31ec579717",
   "metadata": {},
   "outputs": [],
   "source": [
    "df = spark.read.option(\"header\", \"true\").option('inferSchema', \"true\").option(\"sep\", \",\").csv(\"scores.csv\")"
   ]
  },
  {
   "cell_type": "code",
   "execution_count": 23,
   "id": "fa6d2fbc-5bb7-402c-a88a-2938f4efc46e",
   "metadata": {},
   "outputs": [
    {
     "name": "stdout",
     "output_type": "stream",
     "text": [
      "+-----------------+-----------------+------+\n",
      "|           score1|           score2|result|\n",
      "+-----------------+-----------------+------+\n",
      "|34.62365962451697| 78.0246928153624|     0|\n",
      "|30.28671076822607|43.89499752400101|     0|\n",
      "|35.84740876993872|72.90219802708364|     0|\n",
      "|60.18259938620976|86.30855209546826|     1|\n",
      "| 79.0327360507101| 75.3443764369103|     1|\n",
      "|45.08327747668339| 56.3163717815305|     0|\n",
      "|61.10666453684766|96.51142588489624|     1|\n",
      "|75.02474556738889|46.55401354116538|     1|\n",
      "|76.09878670226257|87.42056971926803|     1|\n",
      "|84.43281996120035|43.53339331072109|     1|\n",
      "|95.86155507093572|38.22527805795094|     0|\n",
      "|75.01365838958247|30.60326323428011|     0|\n",
      "|82.30705337399482|76.48196330235604|     1|\n",
      "|34.21206097786789|44.20952859866288|     0|\n",
      "| 77.9240914545704| 68.9723599933059|     1|\n",
      "|62.27101367004632|69.95445795447587|     1|\n",
      "| 80.1901807509566|44.82162893218353|     1|\n",
      "|  93.114388797442|38.80067033713209|     0|\n",
      "|61.83020602312595|50.25610789244621|     0|\n",
      "|38.78580379679423|64.99568095539578|     0|\n",
      "+-----------------+-----------------+------+\n",
      "only showing top 20 rows\n",
      "\n"
     ]
    }
   ],
   "source": [
    "df.show()"
   ]
  },
  {
   "cell_type": "code",
   "execution_count": 24,
   "id": "7dc28aa8-6877-4c0c-8280-1165c3c331e9",
   "metadata": {},
   "outputs": [],
   "source": [
    "from pyspark.ml.feature import VectorAssembler"
   ]
  },
  {
   "cell_type": "code",
   "execution_count": 25,
   "id": "5b6461ef-0e37-46eb-aabb-d8ec74199757",
   "metadata": {},
   "outputs": [],
   "source": [
    "cols = ['score1', 'score2']\n",
    "assembler = VectorAssembler(inputCols = cols , outputCol=\"features\")"
   ]
  },
  {
   "cell_type": "code",
   "execution_count": 26,
   "id": "cd4518f1-7760-4a70-9b14-7b811ca484b3",
   "metadata": {},
   "outputs": [],
   "source": [
    "featureDF = assembler.transform(df).drop(*cols)"
   ]
  },
  {
   "cell_type": "code",
   "execution_count": 27,
   "id": "d81cc058-578e-495c-8cb4-540dac93dd1d",
   "metadata": {},
   "outputs": [
    {
     "name": "stdout",
     "output_type": "stream",
     "text": [
      "+------+--------------------+\n",
      "|result|            features|\n",
      "+------+--------------------+\n",
      "|     0|[34.6236596245169...|\n",
      "|     0|[30.2867107682260...|\n",
      "|     0|[35.8474087699387...|\n",
      "|     1|[60.1825993862097...|\n",
      "|     1|[79.0327360507101...|\n",
      "|     0|[45.0832774766833...|\n",
      "|     1|[61.1066645368476...|\n",
      "|     1|[75.0247455673888...|\n",
      "|     1|[76.0987867022625...|\n",
      "|     1|[84.4328199612003...|\n",
      "|     0|[95.8615550709357...|\n",
      "|     0|[75.0136583895824...|\n",
      "|     1|[82.3070533739948...|\n",
      "|     0|[34.2120609778678...|\n",
      "|     1|[77.9240914545704...|\n",
      "|     1|[62.2710136700463...|\n",
      "|     1|[80.1901807509566...|\n",
      "|     0|[93.114388797442,...|\n",
      "|     0|[61.8302060231259...|\n",
      "|     0|[38.7858037967942...|\n",
      "+------+--------------------+\n",
      "only showing top 20 rows\n",
      "\n"
     ]
    }
   ],
   "source": [
    "featureDF.show()"
   ]
  },
  {
   "cell_type": "code",
   "execution_count": 28,
   "id": "902066c2-6403-4423-816b-10a714b5249b",
   "metadata": {},
   "outputs": [
    {
     "name": "stdout",
     "output_type": "stream",
     "text": [
      "+------+--------------------+\n",
      "|result|            features|\n",
      "+------+--------------------+\n",
      "|     0|[34.6236596245169...|\n",
      "|     0|[30.2867107682260...|\n",
      "|     0|[35.8474087699387...|\n",
      "|     1|[60.1825993862097...|\n",
      "|     1|[79.0327360507101...|\n",
      "+------+--------------------+\n",
      "only showing top 5 rows\n",
      "\n"
     ]
    }
   ],
   "source": [
    "featureDF.show(5)"
   ]
  },
  {
   "cell_type": "code",
   "execution_count": 29,
   "id": "4d8865f6-31db-48ea-a4ec-67d79a3f44bb",
   "metadata": {},
   "outputs": [
    {
     "name": "stdout",
     "output_type": "stream",
     "text": [
      "root\n",
      " |-- result: integer (nullable = true)\n",
      " |-- features: vector (nullable = true)\n",
      "\n"
     ]
    }
   ],
   "source": [
    "featureDF.printSchema()"
   ]
  },
  {
   "cell_type": "code",
   "execution_count": 30,
   "id": "97a86a24-31d9-435a-af77-a4a5e062fe44",
   "metadata": {},
   "outputs": [],
   "source": [
    "from pyspark.ml.feature import StringIndexer\n",
    "indexer = StringIndexer(inputCol=\"result\", outputCol=\"label\")\n",
    "labelDF = indexer.fit(featureDF).transform(featureDF)"
   ]
  },
  {
   "cell_type": "code",
   "execution_count": 31,
   "id": "33e76c7e-4d49-4222-8bc2-25cb190dce30",
   "metadata": {},
   "outputs": [],
   "source": [
    "train, test = labelDF.randomSplit([0.8, 0.2], seed=24)"
   ]
  },
  {
   "cell_type": "code",
   "execution_count": 32,
   "id": "4fedaff6-9861-43ff-a570-c2fd0bd2ad89",
   "metadata": {},
   "outputs": [],
   "source": [
    "from pyspark.ml.classification import LogisticRegression"
   ]
  },
  {
   "cell_type": "code",
   "execution_count": 33,
   "id": "bd1b2a31-2b6a-4a81-93fd-309b6a97385b",
   "metadata": {},
   "outputs": [],
   "source": [
    "lr = LogisticRegression(featuresCol=\"features\", labelCol=\"label\", maxIter=5)"
   ]
  },
  {
   "cell_type": "code",
   "execution_count": 34,
   "id": "74e37f5d-dcc8-483c-b709-2c28c18e836f",
   "metadata": {},
   "outputs": [],
   "source": [
    "model = lr.fit(train)"
   ]
  },
  {
   "cell_type": "code",
   "execution_count": 35,
   "id": "b92204f4-b5e9-4494-8d31-52f1b34fd721",
   "metadata": {},
   "outputs": [],
   "source": [
    "pred_train = model.transform(train)\n",
    "pred_test = model.transform(test)"
   ]
  },
  {
   "cell_type": "code",
   "execution_count": 36,
   "id": "cbbda6d7-132f-4918-8fc8-269b879f6e75",
   "metadata": {},
   "outputs": [
    {
     "data": {
      "text/html": [
       "<div>\n",
       "<style scoped>\n",
       "    .dataframe tbody tr th:only-of-type {\n",
       "        vertical-align: middle;\n",
       "    }\n",
       "\n",
       "    .dataframe tbody tr th {\n",
       "        vertical-align: top;\n",
       "    }\n",
       "\n",
       "    .dataframe thead th {\n",
       "        text-align: right;\n",
       "    }\n",
       "</style>\n",
       "<table border=\"1\" class=\"dataframe\">\n",
       "  <thead>\n",
       "    <tr style=\"text-align: right;\">\n",
       "      <th></th>\n",
       "      <th>result</th>\n",
       "      <th>features</th>\n",
       "      <th>label</th>\n",
       "      <th>rawPrediction</th>\n",
       "      <th>probability</th>\n",
       "      <th>prediction</th>\n",
       "    </tr>\n",
       "  </thead>\n",
       "  <tbody>\n",
       "    <tr>\n",
       "      <th>0</th>\n",
       "      <td>0</td>\n",
       "      <td>[30.05882244669796, 49.59297386723685]</td>\n",
       "      <td>1.0</td>\n",
       "      <td>[-7.685640669326601, 7.685640669326601]</td>\n",
       "      <td>[0.000459165456935381, 0.9995408345430646]</td>\n",
       "      <td>1.0</td>\n",
       "    </tr>\n",
       "    <tr>\n",
       "      <th>1</th>\n",
       "      <td>0</td>\n",
       "      <td>[30.28671076822607, 43.89499752400101]</td>\n",
       "      <td>1.0</td>\n",
       "      <td>[-8.517043307123634, 8.517043307123634]</td>\n",
       "      <td>[0.00019998997511461956, 0.9998000100248854]</td>\n",
       "      <td>1.0</td>\n",
       "    </tr>\n",
       "    <tr>\n",
       "      <th>2</th>\n",
       "      <td>0</td>\n",
       "      <td>[32.57720016809309, 95.59854761387875]</td>\n",
       "      <td>1.0</td>\n",
       "      <td>[-0.1955312704889849, 0.1955312704889849]</td>\n",
       "      <td>[0.45127233183297827, 0.5487276681670217]</td>\n",
       "      <td>1.0</td>\n",
       "    </tr>\n",
       "    <tr>\n",
       "      <th>3</th>\n",
       "      <td>0</td>\n",
       "      <td>[32.72283304060323, 43.30717306430063]</td>\n",
       "      <td>1.0</td>\n",
       "      <td>[-8.172504607935068, 8.172504607935068]</td>\n",
       "      <td>[0.0002822303777552935, 0.9997177696222447]</td>\n",
       "      <td>1.0</td>\n",
       "    </tr>\n",
       "    <tr>\n",
       "      <th>4</th>\n",
       "      <td>0</td>\n",
       "      <td>[33.91550010906887, 98.86943574220611]</td>\n",
       "      <td>1.0</td>\n",
       "      <td>[0.5437595353826197, -0.5437595353826197]</td>\n",
       "      <td>[0.6326865472761182, 0.36731345272388183]</td>\n",
       "      <td>0.0</td>\n",
       "    </tr>\n",
       "    <tr>\n",
       "      <th>...</th>\n",
       "      <td>...</td>\n",
       "      <td>...</td>\n",
       "      <td>...</td>\n",
       "      <td>...</td>\n",
       "      <td>...</td>\n",
       "      <td>...</td>\n",
       "    </tr>\n",
       "    <tr>\n",
       "      <th>78</th>\n",
       "      <td>1</td>\n",
       "      <td>[97.64563396007767, 68.86157272420604]</td>\n",
       "      <td>0.0</td>\n",
       "      <td>[7.317991624245522, -7.317991624245522]</td>\n",
       "      <td>[0.999336946513547, 0.0006630534864530135]</td>\n",
       "      <td>0.0</td>\n",
       "    </tr>\n",
       "    <tr>\n",
       "      <th>79</th>\n",
       "      <td>1</td>\n",
       "      <td>[97.77159928000232, 86.7278223300282]</td>\n",
       "      <td>0.0</td>\n",
       "      <td>[10.074803783345978, -10.074803783345978]</td>\n",
       "      <td>[0.9999578740201999, 4.2125979800133884e-05]</td>\n",
       "      <td>0.0</td>\n",
       "    </tr>\n",
       "    <tr>\n",
       "      <th>80</th>\n",
       "      <td>1</td>\n",
       "      <td>[99.2725269292572, 60.99903099844988]</td>\n",
       "      <td>0.0</td>\n",
       "      <td>[6.4048364615916, -6.4048364615916]</td>\n",
       "      <td>[0.998349189065939, 0.0016508109340610533]</td>\n",
       "      <td>0.0</td>\n",
       "    </tr>\n",
       "    <tr>\n",
       "      <th>81</th>\n",
       "      <td>1</td>\n",
       "      <td>[99.31500880510394, 68.77540947206617]</td>\n",
       "      <td>0.0</td>\n",
       "      <td>[7.6025514894940684, -7.6025514894940684]</td>\n",
       "      <td>[0.9995010728880466, 0.0004989271119534289]</td>\n",
       "      <td>0.0</td>\n",
       "    </tr>\n",
       "    <tr>\n",
       "      <th>82</th>\n",
       "      <td>1</td>\n",
       "      <td>[99.82785779692128, 72.36925193383885]</td>\n",
       "      <td>0.0</td>\n",
       "      <td>[8.244042961187816, -8.244042961187816]</td>\n",
       "      <td>[0.9997372495265187, 0.0002627504734813435]</td>\n",
       "      <td>0.0</td>\n",
       "    </tr>\n",
       "  </tbody>\n",
       "</table>\n",
       "<p>83 rows × 6 columns</p>\n",
       "</div>"
      ],
      "text/plain": [
       "    result                                features  label  \\\n",
       "0        0  [30.05882244669796, 49.59297386723685]    1.0   \n",
       "1        0  [30.28671076822607, 43.89499752400101]    1.0   \n",
       "2        0  [32.57720016809309, 95.59854761387875]    1.0   \n",
       "3        0  [32.72283304060323, 43.30717306430063]    1.0   \n",
       "4        0  [33.91550010906887, 98.86943574220611]    1.0   \n",
       "..     ...                                     ...    ...   \n",
       "78       1  [97.64563396007767, 68.86157272420604]    0.0   \n",
       "79       1   [97.77159928000232, 86.7278223300282]    0.0   \n",
       "80       1   [99.2725269292572, 60.99903099844988]    0.0   \n",
       "81       1  [99.31500880510394, 68.77540947206617]    0.0   \n",
       "82       1  [99.82785779692128, 72.36925193383885]    0.0   \n",
       "\n",
       "                                rawPrediction  \\\n",
       "0     [-7.685640669326601, 7.685640669326601]   \n",
       "1     [-8.517043307123634, 8.517043307123634]   \n",
       "2   [-0.1955312704889849, 0.1955312704889849]   \n",
       "3     [-8.172504607935068, 8.172504607935068]   \n",
       "4   [0.5437595353826197, -0.5437595353826197]   \n",
       "..                                        ...   \n",
       "78    [7.317991624245522, -7.317991624245522]   \n",
       "79  [10.074803783345978, -10.074803783345978]   \n",
       "80        [6.4048364615916, -6.4048364615916]   \n",
       "81  [7.6025514894940684, -7.6025514894940684]   \n",
       "82    [8.244042961187816, -8.244042961187816]   \n",
       "\n",
       "                                     probability  prediction  \n",
       "0     [0.000459165456935381, 0.9995408345430646]         1.0  \n",
       "1   [0.00019998997511461956, 0.9998000100248854]         1.0  \n",
       "2      [0.45127233183297827, 0.5487276681670217]         1.0  \n",
       "3    [0.0002822303777552935, 0.9997177696222447]         1.0  \n",
       "4      [0.6326865472761182, 0.36731345272388183]         0.0  \n",
       "..                                           ...         ...  \n",
       "78    [0.999336946513547, 0.0006630534864530135]         0.0  \n",
       "79  [0.9999578740201999, 4.2125979800133884e-05]         0.0  \n",
       "80    [0.998349189065939, 0.0016508109340610533]         0.0  \n",
       "81   [0.9995010728880466, 0.0004989271119534289]         0.0  \n",
       "82   [0.9997372495265187, 0.0002627504734813435]         0.0  \n",
       "\n",
       "[83 rows x 6 columns]"
      ]
     },
     "execution_count": 36,
     "metadata": {},
     "output_type": "execute_result"
    }
   ],
   "source": [
    "pred_train.toPandas()"
   ]
  },
  {
   "cell_type": "code",
   "execution_count": 37,
   "id": "61756b2f-aac2-48de-b6d1-fa547d34c6e7",
   "metadata": {},
   "outputs": [
    {
     "name": "stdout",
     "output_type": "stream",
     "text": [
      "-RECORD 0-----------------------------\n",
      " result        | 0                    \n",
      " features      | [30.0588224466979... \n",
      " label         | 1.0                  \n",
      " rawPrediction | [-7.6856406693266... \n",
      " probability   | [4.59165456935381... \n",
      " prediction    | 1.0                  \n",
      "-RECORD 1-----------------------------\n",
      " result        | 0                    \n",
      " features      | [30.2867107682260... \n",
      " label         | 1.0                  \n",
      " rawPrediction | [-8.5170433071236... \n",
      " probability   | [1.99989975114619... \n",
      " prediction    | 1.0                  \n",
      "only showing top 2 rows\n",
      "\n"
     ]
    }
   ],
   "source": [
    "pred_train.show(2, vertical=True)"
   ]
  },
  {
   "cell_type": "code",
   "execution_count": 38,
   "id": "f80569b9-e2fc-485a-a4de-7eb842cf2219",
   "metadata": {},
   "outputs": [
    {
     "data": {
      "text/html": [
       "<div>\n",
       "<style scoped>\n",
       "    .dataframe tbody tr th:only-of-type {\n",
       "        vertical-align: middle;\n",
       "    }\n",
       "\n",
       "    .dataframe tbody tr th {\n",
       "        vertical-align: top;\n",
       "    }\n",
       "\n",
       "    .dataframe thead th {\n",
       "        text-align: right;\n",
       "    }\n",
       "</style>\n",
       "<table border=\"1\" class=\"dataframe\">\n",
       "  <thead>\n",
       "    <tr style=\"text-align: right;\">\n",
       "      <th></th>\n",
       "      <th>probability</th>\n",
       "      <th>prediction</th>\n",
       "    </tr>\n",
       "  </thead>\n",
       "  <tbody>\n",
       "    <tr>\n",
       "      <th>0</th>\n",
       "      <td>[0.000459165456935381, 0.9995408345430646]</td>\n",
       "      <td>1.0</td>\n",
       "    </tr>\n",
       "    <tr>\n",
       "      <th>1</th>\n",
       "      <td>[0.00019998997511461956, 0.9998000100248854]</td>\n",
       "      <td>1.0</td>\n",
       "    </tr>\n",
       "    <tr>\n",
       "      <th>2</th>\n",
       "      <td>[0.45127233183297827, 0.5487276681670217]</td>\n",
       "      <td>1.0</td>\n",
       "    </tr>\n",
       "    <tr>\n",
       "      <th>3</th>\n",
       "      <td>[0.0002822303777552935, 0.9997177696222447]</td>\n",
       "      <td>1.0</td>\n",
       "    </tr>\n",
       "    <tr>\n",
       "      <th>4</th>\n",
       "      <td>[0.6326865472761182, 0.36731345272388183]</td>\n",
       "      <td>0.0</td>\n",
       "    </tr>\n",
       "    <tr>\n",
       "      <th>...</th>\n",
       "      <td>...</td>\n",
       "      <td>...</td>\n",
       "    </tr>\n",
       "    <tr>\n",
       "      <th>78</th>\n",
       "      <td>[0.999336946513547, 0.0006630534864530135]</td>\n",
       "      <td>0.0</td>\n",
       "    </tr>\n",
       "    <tr>\n",
       "      <th>79</th>\n",
       "      <td>[0.9999578740201999, 4.2125979800133884e-05]</td>\n",
       "      <td>0.0</td>\n",
       "    </tr>\n",
       "    <tr>\n",
       "      <th>80</th>\n",
       "      <td>[0.998349189065939, 0.0016508109340610533]</td>\n",
       "      <td>0.0</td>\n",
       "    </tr>\n",
       "    <tr>\n",
       "      <th>81</th>\n",
       "      <td>[0.9995010728880466, 0.0004989271119534289]</td>\n",
       "      <td>0.0</td>\n",
       "    </tr>\n",
       "    <tr>\n",
       "      <th>82</th>\n",
       "      <td>[0.9997372495265187, 0.0002627504734813435]</td>\n",
       "      <td>0.0</td>\n",
       "    </tr>\n",
       "  </tbody>\n",
       "</table>\n",
       "<p>83 rows × 2 columns</p>\n",
       "</div>"
      ],
      "text/plain": [
       "                                     probability  prediction\n",
       "0     [0.000459165456935381, 0.9995408345430646]         1.0\n",
       "1   [0.00019998997511461956, 0.9998000100248854]         1.0\n",
       "2      [0.45127233183297827, 0.5487276681670217]         1.0\n",
       "3    [0.0002822303777552935, 0.9997177696222447]         1.0\n",
       "4      [0.6326865472761182, 0.36731345272388183]         0.0\n",
       "..                                           ...         ...\n",
       "78    [0.999336946513547, 0.0006630534864530135]         0.0\n",
       "79  [0.9999578740201999, 4.2125979800133884e-05]         0.0\n",
       "80    [0.998349189065939, 0.0016508109340610533]         0.0\n",
       "81   [0.9995010728880466, 0.0004989271119534289]         0.0\n",
       "82   [0.9997372495265187, 0.0002627504734813435]         0.0\n",
       "\n",
       "[83 rows x 2 columns]"
      ]
     },
     "execution_count": 38,
     "metadata": {},
     "output_type": "execute_result"
    }
   ],
   "source": [
    "pred_train.select(['probability', 'prediction']).toPandas()"
   ]
  },
  {
   "cell_type": "code",
   "execution_count": 39,
   "id": "f3b1a444-523d-476d-b764-66cfa6c425d5",
   "metadata": {},
   "outputs": [],
   "source": [
    "from pyspark.ml.evaluation import BinaryClassificationEvaluator\n",
    "evaluator = BinaryClassificationEvaluator()"
   ]
  },
  {
   "cell_type": "code",
   "execution_count": 40,
   "id": "54d08c33-5c18-49b8-aa32-c4a568391b76",
   "metadata": {},
   "outputs": [
    {
     "name": "stdout",
     "output_type": "stream",
     "text": [
      "+---+--------------------+\n",
      "|FPR|                 TPR|\n",
      "+---+--------------------+\n",
      "|0.0|                 0.0|\n",
      "|0.0|0.029411764705882353|\n",
      "|0.0|0.058823529411764705|\n",
      "+---+--------------------+\n",
      "only showing top 3 rows\n",
      "\n"
     ]
    }
   ],
   "source": [
    "model.summary.roc.show(3)"
   ]
  },
  {
   "cell_type": "code",
   "execution_count": 41,
   "id": "546f0e81-0936-42d2-b2c3-72188858d3fa",
   "metadata": {},
   "outputs": [
    {
     "data": {
      "image/png": "[encoded data removed]",
      "text/plain": [
       "<Figure size 640x480 with 1 Axes>"
      ]
     },
     "metadata": {},
     "output_type": "display_data"
    }
   ],
   "source": [
    "import matplotlib.pyplot as plt\n",
    "\n",
    "train_summ = model.summary\n",
    "roc = train_summ.roc.toPandas()\n",
    "plt.plot(roc['FPR'], roc['TPR'])\n",
    "plt.title('Roc Curve')\n",
    "plt.show()"
   ]
  },
  {
   "cell_type": "code",
   "execution_count": 42,
   "id": "27cfd099-701a-4038-b908-672ee4f0c2f2",
   "metadata": {},
   "outputs": [
    {
     "name": "stdout",
     "output_type": "stream",
     "text": [
      "gini:  1.0\n"
     ]
    }
   ],
   "source": [
    "print(f\"gini:  {2*evaluator.evaluate(pred_test)-1}\")"
   ]
  },
  {
   "cell_type": "code",
   "execution_count": 43,
   "id": "48ec986c-b1f0-4cec-a853-49558db047df",
   "metadata": {},
   "outputs": [],
   "source": [
    "# spark stream on data frame \n",
    "spark.stop()"
   ]
  },
  {
   "cell_type": "code",
   "execution_count": 44,
   "id": "6c2785cf-e2d0-47f2-84cd-916449851675",
   "metadata": {},
   "outputs": [],
   "source": [
    "from pyspark.sql import SparkSession\n",
    "import pyspark.sql.functions as f"
   ]
  },
  {
   "cell_type": "code",
   "execution_count": 45,
   "id": "5d572d09-9b56-46ca-aac2-117d32b45471",
   "metadata": {},
   "outputs": [],
   "source": [
    "spark = SparkSession\\\n",
    ".builder\\\n",
    ".master(\"local[2]\")\\\n",
    ".appName(\"Stream_DF\")\\\n",
    ".getOrCreate()"
   ]
  },
  {
   "cell_type": "code",
   "execution_count": 46,
   "id": "d2d79153-8c72-4578-ad01-e411145d5488",
   "metadata": {},
   "outputs": [
    {
     "data": {
      "text/plain": [
       "[Database(name='default', description='default database', locationUri='file:/home/jovyan/notebooks/RTA%20LABORATORY/spark-warehouse'),\n",
       " Database(name='test', description='', locationUri='file:/home/jovyan/notebooks/RTA%20LABORATORY/spark-warehouse/test.db')]"
      ]
     },
     "execution_count": 46,
     "metadata": {},
     "output_type": "execute_result"
    }
   ],
   "source": [
    "# inner database for spark\n",
    "spark.sql(\"Create database test\")\n",
    "spark.catalog.listDatabases()"
   ]
  },
  {
   "cell_type": "code",
   "execution_count": 47,
   "id": "0d3f5e5a-bdb1-4a14-a99c-ed4f663afe06",
   "metadata": {},
   "outputs": [],
   "source": [
    "spark.sparkContext.setLogLevel(\"ERROR\")"
   ]
  },
  {
   "cell_type": "code",
   "execution_count": 48,
   "id": "ef8d482e-5f90-40b2-b9e5-d51a7950a587",
   "metadata": {},
   "outputs": [],
   "source": [
    "# load data \n",
    "lines = spark\\\n",
    ".readStream\\\n",
    ".format(\"socket\")\\\n",
    ".option(\"host\", \"localhost\")\\\n",
    ".option(\"port\", 9999)\\\n",
    ".load()"
   ]
  },
  {
   "cell_type": "code",
   "execution_count": 49,
   "id": "bd55d8fd-0242-42a5-a60c-cffe0a7078b6",
   "metadata": {},
   "outputs": [],
   "source": [
    "# transform data \n",
    "words = lines\\\n",
    ".select(f.explode(f.split(lines.value, \" \"))\\\n",
    "        .alias(\"word\"))\n",
    "wordCounts = words.groupBy(\"word\").count()"
   ]
  },
  {
   "cell_type": "code",
   "execution_count": null,
   "id": "2cef2245-4c49-48a0-9f93-f60aa1e6403f",
   "metadata": {},
   "outputs": [],
   "source": [
    "# save results \n",
    "query = (wordCounts\\\n",
    ".writeStream\\\n",
    ".outputMode(\"complete\")\\\n",
    ".format(\"console\")\\\n",
    ".start())\n",
    "query.awaitTermination()"
   ]
  },
  {
   "cell_type": "code",
   "execution_count": null,
   "id": "a5236754-1a91-46d1-80b8-fc47ece6fc89",
   "metadata": {},
   "outputs": [],
   "source": [
    "%%file spark2.py\n",
    "\n",
    "from pyspark.sql import SparkSession\n",
    "import pyspark.sql.functions as f\n",
    "\n",
    "if __name__ == \"__main__\":\n",
    "    spark = SparkSession.builder.master(\"local[2]\").appName(\"Stream_DF\").getOrCreate()\n",
    "    print(\"=\"*50)\n",
    "    print(\"Zaczynamy DataFrame\")\n",
    "    print(\"=\"*50)\n",
    "    spark.sparkContext.setLogLevel(\"ERROR\")\n",
    "    lines = spark.readStream\\\n",
    "        .format(\"socket\")\\\n",
    "        .option(\"host\", \"localhost\")\\\n",
    "        .option(\"port\", 9999)\\\n",
    "        .load()\n",
    "    words = lines.select(f.explode(f.split(lines.value, \" \")).alias(\"word\"))\n",
    "    wordCounts = words.groupBy(\"word\").count()\n",
    "    query = wordCounts.writeStream.outputMode(\"complete\").format(\"console\").start()\n",
    "    query.awaitTermination()\n",
    "    #query.stop()"
   ]
  },
  {
   "cell_type": "code",
   "execution_count": null,
   "id": "449bb544-e2fe-4b2a-bd7c-ab1519e5d2e7",
   "metadata": {},
   "outputs": [],
   "source": [
    "! spark-submit spark2.py"
   ]
  },
  {
   "cell_type": "code",
   "execution_count": null,
   "id": "2d3bc3f6-64ce-499c-9a8b-2424972b3ade",
   "metadata": {},
   "outputs": [],
   "source": []
  }
 ],
 "metadata": {
  "interpreter": {
   "hash": "202176bf24c7be8b84d0d8257d239324e8e2768f08e0738769661218a3cb54c7"
  },
  "kernelspec": {
   "display_name": "Python 3 (ipykernel)",
   "language": "python",
   "name": "python3"
  },
  "language_info": {
   "codemirror_mode": {
    "name": "ipython",
    "version": 3
   },
   "file_extension": ".py",
   "mimetype": "text/x-python",
   "name": "python",
   "nbconvert_exporter": "python",
   "pygments_lexer": "ipython3",
   "version": "3.10.8"
  }
 },
 "nbformat": 4,
 "nbformat_minor": 5
}
