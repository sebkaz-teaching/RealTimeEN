{
 "cells": [
  {
   "cell_type": "code",
   "execution_count": null,
   "id": "869d8505-c23c-44b0-971d-588095fc5cd3",
   "metadata": {},
   "outputs": [],
   "source": [
    "# function definition \n",
    "def moja_funkcja():\n",
    "    pass"
   ]
  },
  {
   "cell_type": "code",
   "execution_count": null,
   "id": "d6f945b5-915f-4341-b556-dbe17a8322e2",
   "metadata": {},
   "outputs": [],
   "source": [
    "# class definition\n",
    "class Nazwa(object):\n",
    "    pass"
   ]
  },
  {
   "cell_type": "code",
   "execution_count": null,
   "id": "486e9b67-2ed2-49bc-9c86-8a7997f81c50",
   "metadata": {},
   "outputs": [],
   "source": [
    "a = Nazwa()\n",
    "a.__dir__()"
   ]
  },
  {
   "cell_type": "code",
   "execution_count": null,
   "id": "54471245-b8f0-48ad-8cdc-1bef47467b93",
   "metadata": {},
   "outputs": [],
   "source": [
    "[Nazwa() for _ in range(10)]"
   ]
  },
  {
   "cell_type": "code",
   "execution_count": null,
   "id": "f07333d2-d132-4060-a208-ab08e47871cb",
   "metadata": {},
   "outputs": [],
   "source": [
    "# just for reminde\n",
    "x = [1,2,3,4,5]\n",
    "[t**2 for t in x]"
   ]
  },
  {
   "cell_type": "code",
   "execution_count": null,
   "id": "5e7a5772-a6df-4638-a8a0-79c86da775d6",
   "metadata": {},
   "outputs": [],
   "source": [
    "from random import randint\n",
    "class Dice():\n",
    "    \"\"\"class description\"\"\"\n",
    "    def __init__(self, wall=6):\n",
    "        \"\"\" ops metody \"\"\"\n",
    "        self.wall = wall\n",
    "        \n",
    "    def roll(self):\n",
    "        \"\"\"opis metody \"\"\"\n",
    "        return randint(1,self.wall)"
   ]
  },
  {
   "cell_type": "code",
   "execution_count": null,
   "id": "e3aaabd6-c8fe-48f1-9e85-e4102a58a9a4",
   "metadata": {},
   "outputs": [],
   "source": [
    "a = Dice()\n",
    "[a.roll() for _ in range(10)]"
   ]
  },
  {
   "cell_type": "code",
   "execution_count": null,
   "id": "8b108743-fd14-46f0-ae74-a30e86c83212",
   "metadata": {},
   "outputs": [],
   "source": [
    "# Random Walk\n",
    "\n",
    "from random import choice\n",
    "\n",
    "class RandomWalk():\n",
    "    def __init__(self, num_points=5000):\n",
    "        self.num_points = num_points\n",
    "        self.x_values = [0]\n",
    "        self.y_values = [0]\n",
    "    \n",
    "    def fill_walk(self):\n",
    "        while len(self.x_values) < self.num_points:\n",
    "            x_direction = choice([-1,1])\n",
    "            x_distance = choice([0,1,2,3,4])\n",
    "            x_step = x_direction*x_distance\n",
    "            \n",
    "            y_direction = choice([-1,1])\n",
    "            y_distance = choice([0,1,2,3,4])\n",
    "            y_step = y_direction*y_distance\n",
    "            \n",
    "            if x_step == 0 and y_step == 0:\n",
    "                continue\n",
    "            \n",
    "            next_x = self.x_values[-1] + x_step\n",
    "            next_y = self.y_values[-1] + y_step\n",
    "            \n",
    "            self.x_values.append(next_x)\n",
    "            self.y_values.append(next_y)"
   ]
  },
  {
   "cell_type": "code",
   "execution_count": null,
   "id": "edd271c9-5ee5-4dac-b8b9-253adc3f4d7e",
   "metadata": {},
   "outputs": [],
   "source": [
    "rw = RandomWalk()\n",
    "rw.x_values\n"
   ]
  },
  {
   "cell_type": "code",
   "execution_count": null,
   "id": "06289e09-fd19-466b-9213-18d2e6c3c605",
   "metadata": {},
   "outputs": [],
   "source": [
    "rw.fill_walk()"
   ]
  },
  {
   "cell_type": "code",
   "execution_count": null,
   "id": "9618279c-a6a4-4021-ba38-0edae67b7e04",
   "metadata": {},
   "outputs": [],
   "source": [
    "import matplotlib.pyplot as  plt\n",
    "\n",
    "point_number = list(range(rw.num_points))\n",
    "\n",
    "plt.scatter(rw.x_values, rw.y_values, c=point_number, cmap=plt.cm.Blues, edgecolor='none', s=15)\n",
    "plt.scatter(0,0,c='green', edgecolor='none', s=100)\n",
    "plt.scatter(rw.x_values[-1], rw.y_values[-1],c='red', edgecolor='none', s=100)\n",
    "plt.axis('off')\n",
    "plt.show()"
   ]
  },
  {
   "cell_type": "markdown",
   "id": "49eab484-0368-451a-b649-1e4cbe6f6e47",
   "metadata": {},
   "source": [
    "# HOME WORK \n",
    ">> Generate class for AR and MA time series process"
   ]
  },
  {
   "cell_type": "code",
   "execution_count": null,
   "id": "fa4108f6-33fd-48f6-8aad-a027e2bd577f",
   "metadata": {},
   "outputs": [],
   "source": [
    "# Objective programming for sklearn "
   ]
  },
  {
   "cell_type": "code",
   "execution_count": null,
   "id": "f1bcfb18-75b2-48a9-8f81-1b751cc26135",
   "metadata": {},
   "outputs": [],
   "source": [
    "import numpy as np\n",
    "import pandas as pd\n",
    "\n",
    "dane = {'zm1':[3,4,np.NaN,2,6,1], \n",
    "        'zm2':[54,np.NaN, 56,342,643,123],\n",
    "        'zm3':['blue','red','red',\n",
    "               'blue','green','green'],\n",
    "        'zm4':['male','male','female','male','female','female'],\n",
    "        'target':[0,1,1,0,0,1]}\n",
    "\n",
    "df = pd.DataFrame(dane)\n",
    "df"
   ]
  },
  {
   "cell_type": "code",
   "execution_count": null,
   "id": "c3d0ed42-4815-4f8a-a108-9d14a6951f84",
   "metadata": {},
   "outputs": [],
   "source": [
    "X = df.drop(columns=['target'])\n",
    "y = df['target']"
   ]
  },
  {
   "cell_type": "code",
   "execution_count": null,
   "id": "b579d0d7-2a39-4996-af38-384e2fa50e22",
   "metadata": {},
   "outputs": [],
   "source": [
    "from sklearn.pipeline import Pipeline\n",
    "from sklearn.compose import ColumnTransformer\n",
    "from sklearn.preprocessing import StandardScaler\n",
    "from sklearn.impute import SimpleImputer\n",
    "from sklearn.preprocessing import OneHotEncoder\n",
    "\n",
    "numeric_features = [\"zm1\", \"zm2\"]\n",
    "numeric_transformer = Pipeline(steps=[\n",
    "    (\"imputer\", SimpleImputer(strategy=\"mean\")),\n",
    "    (\"scaler\", StandardScaler())\n",
    "])\n",
    "categorical_features = [\"zm3\", \"zm4\"]\n",
    "categorical_transformer = OneHotEncoder(handle_unknown=\"ignore\")"
   ]
  },
  {
   "cell_type": "code",
   "execution_count": null,
   "id": "ed65f051-d3a2-424d-b383-a59cbe736d6f",
   "metadata": {},
   "outputs": [],
   "source": [
    "preprocessor = ColumnTransformer(transformers=[\n",
    "    (\"num_trans\", numeric_transformer, numeric_features),\n",
    "    (\"cat_trans\", categorical_transformer, categorical_features)\n",
    "])\n",
    "\n",
    "from sklearn.linear_model import LogisticRegression\n",
    "from sklearn.ensemble import RandomForestClassifier\n",
    "\n",
    "pipeline = Pipeline(steps=[\n",
    "    (\"preproc\", preprocessor),\n",
    "    (\"model\", LogisticRegression())\n",
    "])"
   ]
  },
  {
   "cell_type": "code",
   "execution_count": null,
   "id": "42894f95-82e9-4f1e-9aee-fd2f70520b4c",
   "metadata": {},
   "outputs": [],
   "source": [
    "# remember that pipeline is also python object"
   ]
  },
  {
   "cell_type": "code",
   "execution_count": null,
   "id": "bc703932-e6a7-467d-a06b-2dea1c749a26",
   "metadata": {},
   "outputs": [],
   "source": [
    "from sklearn import set_config\n",
    "set_config(display='diagram')\n",
    "pipeline"
   ]
  },
  {
   "cell_type": "code",
   "execution_count": null,
   "id": "4e4ccf83-3bf6-42f4-b61f-126e4244df56",
   "metadata": {},
   "outputs": [],
   "source": [
    "from sklearn.model_selection import train_test_split\n",
    "X_tr, X_test, y_tr, y_test = train_test_split(X,y,\n",
    "test_size=0.2, random_state=42)\n",
    "\n",
    "pipeline.fit(X_tr, y_tr)\n",
    "\n",
    "score = pipeline.score(X_test, y_test)\n",
    "print(score)"
   ]
  },
  {
   "cell_type": "code",
   "execution_count": null,
   "id": "15da8e33-e222-458e-9e16-b9b782f9fda4",
   "metadata": {},
   "outputs": [],
   "source": [
    "import joblib\n",
    "joblib.dump(pipeline, 'your_pipeline.pkl')"
   ]
  },
  {
   "cell_type": "code",
   "execution_count": null,
   "id": "5387ee87-89f8-4459-a918-9b35f250f3b6",
   "metadata": {},
   "outputs": [],
   "source": [
    "param_grid = [\n",
    "              {\"preproc__num_trans__imputer__strategy\":\n",
    "              [\"mean\",\"median\"],\n",
    "               \"model__n_estimators\":[2,5,10,100,500],\n",
    "               \"model__min_samples_leaf\": [1, 0.1],\n",
    "               \"model\":[RandomForestClassifier()]},\n",
    "              {\"preproc__num_trans__imputer__strategy\":\n",
    "                [\"mean\",\"median\"],\n",
    "               \"model__C\":[0.1,1.0,10.0,100.0,1000],\n",
    "                \"model\":[LogisticRegression()]}\n",
    "]\n",
    "\n",
    "from sklearn.model_selection import GridSearchCV\n",
    "\n",
    "\n",
    "grid_search = GridSearchCV(pipeline, param_grid,\n",
    "cv=2, verbose=1, n_jobs=-1)\n",
    "\n",
    "\n",
    "grid_search.fit(X_tr, y_tr)\n",
    "\n",
    "grid_search.best_params_"
   ]
  },
  {
   "cell_type": "code",
   "execution_count": null,
   "id": "ecd8c299-1eea-42dd-b508-68792ee27c6c",
   "metadata": {},
   "outputs": [],
   "source": [
    "# your own transformator class\n",
    "\n",
    "from sklearn.base import BaseEstimator, TransformerMixin\n",
    "\n",
    "class DelOneValueFeature(BaseEstimator, TransformerMixin):\n",
    "    \"\"\"Description\"\"\"\n",
    "    def __init__(self):\n",
    "        self.one_value_features = []\n",
    "        \n",
    "    def fit(self, X, y=None):\n",
    "        for feature in X.columns:\n",
    "            unique = X[feature].unique()\n",
    "            if len(unique)==1:\n",
    "                self.one_value_features.append(feature)\n",
    "        return self\n",
    "    def transform(self, X, y=None):\n",
    "        if not self.one_value_features:\n",
    "            return X\n",
    "        return X.drop(axis='columns', columns=self.one_value_features)"
   ]
  },
  {
   "cell_type": "code",
   "execution_count": null,
   "id": "55f6b5b9-9737-4f88-a4da-9f0695fc5b0f",
   "metadata": {},
   "outputs": [],
   "source": [
    "pipeline2 = Pipeline([\n",
    "    (\"moja_transformacja\",DelOneValueFeature()),\n",
    "    (\"preprocesser\", preprocessor),\n",
    "    (\"classifier\", LogisticRegression())])\n",
    "    \n",
    "pipeline2.fit(X_tr, y_tr)\n",
    "score2 = pipeline2.score(X_test, y_test)"
   ]
  },
  {
   "cell_type": "code",
   "execution_count": null,
   "id": "194e4d57-0108-4481-98bd-78554b39ad5b",
   "metadata": {},
   "outputs": [],
   "source": []
  }
 ],
 "metadata": {
  "kernelspec": {
   "display_name": "Python 3 (ipykernel)",
   "language": "python",
   "name": "python3"
  },
  "language_info": {
   "codemirror_mode": {
    "name": "ipython",
    "version": 3
   },
   "file_extension": ".py",
   "mimetype": "text/x-python",
   "name": "python",
   "nbconvert_exporter": "python",
   "pygments_lexer": "ipython3",
   "version": "3.10.8"
  }
 },
 "nbformat": 4,
 "nbformat_minor": 5
}
